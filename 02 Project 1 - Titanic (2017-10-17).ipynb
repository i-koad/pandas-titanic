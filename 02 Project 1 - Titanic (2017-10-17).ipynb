{
 "cells": [
  {
   "cell_type": "markdown",
   "metadata": {},
   "source": [
    "# Investigate a Dataset on Titanic\n",
    "### A Udacity Nanodegree Project by Sze-Peng Tan (October 13, 2017)\n",
    "\n",
    "## Abstract\n",
    "This project paper has been prepared under Udacity’s Introduction to Data Analysis course. The project calls for the investigation of a dataset on Titanic supplied by Kaggle. \n",
    "\n",
    "According to Wikipedia's [Sinking of the RMS Titanic](https://en.wikipedia.org/wiki/Sinking_of_the_RMS_Titanic), the Titanic was carrying an estimated 2,224 passengers when it set off to New York City from Southampton in April 1912 on its maiden voyage. More than 1,500 people perished in the tragedy, making it one of the deadliest peacetime maritime disaster in history.\n",
    "\n",
    "This project investigates the provided dataset on Titanic to draw observations about passengers' and survivors' profiles. Statistical metrics and visualization of the data are provided to support the observations. \n",
    "\n",
    "\n",
    "### Table of Contents\n",
    "<ul>\n",
    "<li><a href=\"#intro\">1 Introduction</a></li>\n",
    "<li><a href=\"#wrangling\">2 Data Wrangling</a></li>\n",
    "<li><a href=\"#eda\">3 Exploratory Data Analysis</a>\n",
    "    <ul>\n",
    "    <li><a href=\"#passengers\">3.1 Passengers</a></li>\n",
    "    <li><a href=\"#pclass\">3.2 Survivability based on Pclass</a></li>\n",
    "    <li><a href=\"#fares pclass\">3.3 Ticket Prices between Pclass</a></li>\n",
    "    <li><a href=\"#1st class passengers\">3.4 Survivability amongst 1st Class Passengers</a></li>\n",
    "    <li><a href=\"#age\">3.5 Survivability: Age</a></li>\n",
    "    <li><a href=\"#embarked\">3.6 Survivability: Boarding Station</a></li>\n",
    "    </ul>\n",
    "</li>\n",
    "<li><a href=\"#conclusions\">4 Conclusions</a></li>\n",
    "</ul>\n"
   ]
  },
  {
   "cell_type": "markdown",
   "metadata": {},
   "source": [
    "<a id='intro'></a>\n",
    "## 1 Introduction\n",
    "\n",
    "The [dataset on Titanic](https://www.kaggle.com/c/titanic) was provided by Kaggle. Kaggle describes the tragedy as follows:\n",
    "\n",
    "*\"The sinking of the RMS Titanic is one of the most infamous shipwrecks in history.  On April 15, 1912, during her maiden voyage, the Titanic sank after colliding with an iceberg, killing 1502 out of 2224 passengers and crew. This sensational tragedy shocked the international community and led to better safety regulations for ships.*\n",
    "\n",
    "*One of the reasons that the shipwreck led to such loss of life was that there were not enough lifeboats for the passengers and crew. Although there was some element of luck involved in surviving the sinking, some groups of people were more likely to survive than others, such as women, children, and the upper-class.\"*\n",
    "\n",
    "A [data dictionary](https://www.kaggle.com/c/titanic/data) was also supplied. In summary, the dataset contains variables that allows an opportunity to answer the following question: \n",
    "\n",
    "\"*What factors made people more likely to survive?*\"\n",
    "\n",
    "This project tries to find the answer by analyzing the variables below (*independent variables*) and providing metrices and plots to support observations on if and how these variables affect survivability (*dependent variable*):\n",
    "1. Pclass (A proxy for socio-economic status)\n",
    "2. Age\n",
    "3. Gender\n",
    "4. Embarkation port\n",
    "\n"
   ]
  },
  {
   "cell_type": "code",
   "execution_count": 1,
   "metadata": {
    "collapsed": true
   },
   "outputs": [],
   "source": [
    "# Set up import statements for all of the packages to use.\n",
    "import matplotlib.pyplot as plt\n",
    "import matplotlib.ticker as ticker\n",
    "import matplotlib.gridspec as gridspec\n",
    "import numpy as np\n",
    "import pandas as pd\n",
    "import seaborn as sns\n",
    "\n",
    "%matplotlib inline"
   ]
  },
  {
   "cell_type": "markdown",
   "metadata": {},
   "source": [
    "<a id='wrangling'></a>\n",
    "## 2 Data Wrangling\n",
    "In this chapter, the dataset is loaded and checked for cleanliness, trimmed and cleaned as needed for the succeeding analysis.\n",
    "\n",
    "### 2.1 General Properties"
   ]
  },
  {
   "cell_type": "code",
   "execution_count": 2,
   "metadata": {
    "collapsed": true
   },
   "outputs": [],
   "source": [
    "# Load the data and print out a few lines. Perform operations to inspect data\n",
    "# types and look for instances of missing or possibly errant data.\n",
    "\n",
    "# Read in the CSV file.\n",
    "filename = 'titanic-data.csv'\n",
    "titanic_df = pd.read_csv(filename)"
   ]
  },
  {
   "cell_type": "code",
   "execution_count": 3,
   "metadata": {},
   "outputs": [
    {
     "name": "stdout",
     "output_type": "stream",
     "text": [
      "<class 'pandas.core.frame.DataFrame'>\n"
     ]
    },
    {
     "data": {
      "text/html": [
       "<div>\n",
       "<style>\n",
       "    .dataframe thead tr:only-child th {\n",
       "        text-align: right;\n",
       "    }\n",
       "\n",
       "    .dataframe thead th {\n",
       "        text-align: left;\n",
       "    }\n",
       "\n",
       "    .dataframe tbody tr th {\n",
       "        vertical-align: top;\n",
       "    }\n",
       "</style>\n",
       "<table border=\"1\" class=\"dataframe\">\n",
       "  <thead>\n",
       "    <tr style=\"text-align: right;\">\n",
       "      <th></th>\n",
       "      <th>PassengerId</th>\n",
       "      <th>Survived</th>\n",
       "      <th>Pclass</th>\n",
       "      <th>Name</th>\n",
       "      <th>Sex</th>\n",
       "      <th>Age</th>\n",
       "      <th>SibSp</th>\n",
       "      <th>Parch</th>\n",
       "      <th>Ticket</th>\n",
       "      <th>Fare</th>\n",
       "      <th>Cabin</th>\n",
       "      <th>Embarked</th>\n",
       "    </tr>\n",
       "  </thead>\n",
       "  <tbody>\n",
       "    <tr>\n",
       "      <th>0</th>\n",
       "      <td>1</td>\n",
       "      <td>0</td>\n",
       "      <td>3</td>\n",
       "      <td>Braund, Mr. Owen Harris</td>\n",
       "      <td>male</td>\n",
       "      <td>22.0</td>\n",
       "      <td>1</td>\n",
       "      <td>0</td>\n",
       "      <td>A/5 21171</td>\n",
       "      <td>7.2500</td>\n",
       "      <td>NaN</td>\n",
       "      <td>S</td>\n",
       "    </tr>\n",
       "    <tr>\n",
       "      <th>1</th>\n",
       "      <td>2</td>\n",
       "      <td>1</td>\n",
       "      <td>1</td>\n",
       "      <td>Cumings, Mrs. John Bradley (Florence Briggs Th...</td>\n",
       "      <td>female</td>\n",
       "      <td>38.0</td>\n",
       "      <td>1</td>\n",
       "      <td>0</td>\n",
       "      <td>PC 17599</td>\n",
       "      <td>71.2833</td>\n",
       "      <td>C85</td>\n",
       "      <td>C</td>\n",
       "    </tr>\n",
       "    <tr>\n",
       "      <th>2</th>\n",
       "      <td>3</td>\n",
       "      <td>1</td>\n",
       "      <td>3</td>\n",
       "      <td>Heikkinen, Miss. Laina</td>\n",
       "      <td>female</td>\n",
       "      <td>26.0</td>\n",
       "      <td>0</td>\n",
       "      <td>0</td>\n",
       "      <td>STON/O2. 3101282</td>\n",
       "      <td>7.9250</td>\n",
       "      <td>NaN</td>\n",
       "      <td>S</td>\n",
       "    </tr>\n",
       "    <tr>\n",
       "      <th>3</th>\n",
       "      <td>4</td>\n",
       "      <td>1</td>\n",
       "      <td>1</td>\n",
       "      <td>Futrelle, Mrs. Jacques Heath (Lily May Peel)</td>\n",
       "      <td>female</td>\n",
       "      <td>35.0</td>\n",
       "      <td>1</td>\n",
       "      <td>0</td>\n",
       "      <td>113803</td>\n",
       "      <td>53.1000</td>\n",
       "      <td>C123</td>\n",
       "      <td>S</td>\n",
       "    </tr>\n",
       "    <tr>\n",
       "      <th>4</th>\n",
       "      <td>5</td>\n",
       "      <td>0</td>\n",
       "      <td>3</td>\n",
       "      <td>Allen, Mr. William Henry</td>\n",
       "      <td>male</td>\n",
       "      <td>35.0</td>\n",
       "      <td>0</td>\n",
       "      <td>0</td>\n",
       "      <td>373450</td>\n",
       "      <td>8.0500</td>\n",
       "      <td>NaN</td>\n",
       "      <td>S</td>\n",
       "    </tr>\n",
       "  </tbody>\n",
       "</table>\n",
       "</div>"
      ],
      "text/plain": [
       "   PassengerId  Survived  Pclass  \\\n",
       "0            1         0       3   \n",
       "1            2         1       1   \n",
       "2            3         1       3   \n",
       "3            4         1       1   \n",
       "4            5         0       3   \n",
       "\n",
       "                                                Name     Sex   Age  SibSp  \\\n",
       "0                            Braund, Mr. Owen Harris    male  22.0      1   \n",
       "1  Cumings, Mrs. John Bradley (Florence Briggs Th...  female  38.0      1   \n",
       "2                             Heikkinen, Miss. Laina  female  26.0      0   \n",
       "3       Futrelle, Mrs. Jacques Heath (Lily May Peel)  female  35.0      1   \n",
       "4                           Allen, Mr. William Henry    male  35.0      0   \n",
       "\n",
       "   Parch            Ticket     Fare Cabin Embarked  \n",
       "0      0         A/5 21171   7.2500   NaN        S  \n",
       "1      0          PC 17599  71.2833   C85        C  \n",
       "2      0  STON/O2. 3101282   7.9250   NaN        S  \n",
       "3      0            113803  53.1000  C123        S  \n",
       "4      0            373450   8.0500   NaN        S  "
      ]
     },
     "execution_count": 3,
     "metadata": {},
     "output_type": "execute_result"
    }
   ],
   "source": [
    "# Inspect data type.\n",
    "print type(titanic_df)\n",
    "titanic_df.head()"
   ]
  },
  {
   "cell_type": "markdown",
   "metadata": {},
   "source": [
    "**Observation(s):**   \n",
    "1. Pandas imported the CSV file as a DataFrame with 12 columns. A printout of 5 rows in the DataFrame reveals the column names and contents of each row.\n",
    "2. Cells in column `Cabin` cells have `NaN` entries. Perhaps there are missing entries in other columns as well. "
   ]
  },
  {
   "cell_type": "code",
   "execution_count": 4,
   "metadata": {},
   "outputs": [
    {
     "data": {
      "text/plain": [
       "PassengerId    891\n",
       "Survived       891\n",
       "Pclass         891\n",
       "Name           891\n",
       "Sex            891\n",
       "Age            714\n",
       "SibSp          891\n",
       "Parch          891\n",
       "Ticket         891\n",
       "Fare           891\n",
       "Cabin          204\n",
       "Embarked       889\n",
       "dtype: int64"
      ]
     },
     "execution_count": 4,
     "metadata": {},
     "output_type": "execute_result"
    }
   ],
   "source": [
    "titanic_df.count()"
   ]
  },
  {
   "cell_type": "markdown",
   "metadata": {},
   "source": [
    "**Observation(s):**   \n",
    "1. 891 passengers are recorded in the dataset - it contains only a fraction of all passengers onboard the Titanic.\n",
    "2. Three columns have missing entries (i.e. count of values is < 891): *Age*, *Cabin* and *Embarked*.\n",
    "3. *Cabin* has the highest missing entries followed by *Age*. \n",
    "\n",
    "#### 2.1.1 Quick Glance into Missing Entries in 'Cabin' Column"
   ]
  },
  {
   "cell_type": "code",
   "execution_count": 5,
   "metadata": {},
   "outputs": [
    {
     "data": {
      "text/html": [
       "<div>\n",
       "<style>\n",
       "    .dataframe thead tr:only-child th {\n",
       "        text-align: right;\n",
       "    }\n",
       "\n",
       "    .dataframe thead th {\n",
       "        text-align: left;\n",
       "    }\n",
       "\n",
       "    .dataframe tbody tr th {\n",
       "        vertical-align: top;\n",
       "    }\n",
       "</style>\n",
       "<table border=\"1\" class=\"dataframe\">\n",
       "  <thead>\n",
       "    <tr style=\"text-align: right;\">\n",
       "      <th></th>\n",
       "      <th>PassengerId</th>\n",
       "      <th>Cabin</th>\n",
       "      <th>missing_info</th>\n",
       "    </tr>\n",
       "    <tr>\n",
       "      <th>Pclass</th>\n",
       "      <th></th>\n",
       "      <th></th>\n",
       "      <th></th>\n",
       "    </tr>\n",
       "  </thead>\n",
       "  <tbody>\n",
       "    <tr>\n",
       "      <th>1</th>\n",
       "      <td>216</td>\n",
       "      <td>176</td>\n",
       "      <td>40</td>\n",
       "    </tr>\n",
       "    <tr>\n",
       "      <th>2</th>\n",
       "      <td>184</td>\n",
       "      <td>16</td>\n",
       "      <td>168</td>\n",
       "    </tr>\n",
       "    <tr>\n",
       "      <th>3</th>\n",
       "      <td>491</td>\n",
       "      <td>12</td>\n",
       "      <td>479</td>\n",
       "    </tr>\n",
       "  </tbody>\n",
       "</table>\n",
       "</div>"
      ],
      "text/plain": [
       "        PassengerId  Cabin  missing_info\n",
       "Pclass                                  \n",
       "1               216    176            40\n",
       "2               184     16           168\n",
       "3               491     12           479"
      ]
     },
     "execution_count": 5,
     "metadata": {},
     "output_type": "execute_result"
    }
   ],
   "source": [
    "### Take a quick look at Cabin and see if missing entries are due to ticket class.\n",
    "# Group DataFrame by Pclass and count entries in PassengerId and Cabin.\n",
    "df = titanic_df.groupby('Pclass')['PassengerId', 'Cabin'].count()\n",
    "df['missing_info'] = df['PassengerId'] - df['Cabin']\n",
    "df"
   ]
  },
  {
   "cell_type": "code",
   "execution_count": 6,
   "metadata": {},
   "outputs": [
    {
     "data": {
      "text/html": [
       "<div>\n",
       "<style>\n",
       "    .dataframe thead tr:only-child th {\n",
       "        text-align: right;\n",
       "    }\n",
       "\n",
       "    .dataframe thead th {\n",
       "        text-align: left;\n",
       "    }\n",
       "\n",
       "    .dataframe tbody tr th {\n",
       "        vertical-align: top;\n",
       "    }\n",
       "</style>\n",
       "<table border=\"1\" class=\"dataframe\">\n",
       "  <thead>\n",
       "    <tr style=\"text-align: right;\">\n",
       "      <th></th>\n",
       "      <th>Pclass</th>\n",
       "      <th>Cabin</th>\n",
       "    </tr>\n",
       "  </thead>\n",
       "  <tbody>\n",
       "    <tr>\n",
       "      <th>1</th>\n",
       "      <td>1</td>\n",
       "      <td>C85</td>\n",
       "    </tr>\n",
       "    <tr>\n",
       "      <th>3</th>\n",
       "      <td>1</td>\n",
       "      <td>C123</td>\n",
       "    </tr>\n",
       "    <tr>\n",
       "      <th>6</th>\n",
       "      <td>1</td>\n",
       "      <td>E46</td>\n",
       "    </tr>\n",
       "    <tr>\n",
       "      <th>11</th>\n",
       "      <td>1</td>\n",
       "      <td>C103</td>\n",
       "    </tr>\n",
       "    <tr>\n",
       "      <th>23</th>\n",
       "      <td>1</td>\n",
       "      <td>A6</td>\n",
       "    </tr>\n",
       "  </tbody>\n",
       "</table>\n",
       "</div>"
      ],
      "text/plain": [
       "    Pclass Cabin\n",
       "1        1   C85\n",
       "3        1  C123\n",
       "6        1   E46\n",
       "11       1  C103\n",
       "23       1    A6"
      ]
     },
     "execution_count": 6,
     "metadata": {},
     "output_type": "execute_result"
    }
   ],
   "source": [
    "# Look at a few examples of Cabin entries across each Pclass.\n",
    "cabin_df = titanic_df[['Pclass', 'Cabin']].dropna()\n",
    "cabin_df[cabin_df['Pclass']==1].head()"
   ]
  },
  {
   "cell_type": "code",
   "execution_count": 7,
   "metadata": {},
   "outputs": [
    {
     "data": {
      "text/html": [
       "<div>\n",
       "<style>\n",
       "    .dataframe thead tr:only-child th {\n",
       "        text-align: right;\n",
       "    }\n",
       "\n",
       "    .dataframe thead th {\n",
       "        text-align: left;\n",
       "    }\n",
       "\n",
       "    .dataframe tbody tr th {\n",
       "        vertical-align: top;\n",
       "    }\n",
       "</style>\n",
       "<table border=\"1\" class=\"dataframe\">\n",
       "  <thead>\n",
       "    <tr style=\"text-align: right;\">\n",
       "      <th></th>\n",
       "      <th>Pclass</th>\n",
       "      <th>Cabin</th>\n",
       "    </tr>\n",
       "  </thead>\n",
       "  <tbody>\n",
       "    <tr>\n",
       "      <th>21</th>\n",
       "      <td>2</td>\n",
       "      <td>D56</td>\n",
       "    </tr>\n",
       "    <tr>\n",
       "      <th>66</th>\n",
       "      <td>2</td>\n",
       "      <td>F33</td>\n",
       "    </tr>\n",
       "    <tr>\n",
       "      <th>123</th>\n",
       "      <td>2</td>\n",
       "      <td>E101</td>\n",
       "    </tr>\n",
       "    <tr>\n",
       "      <th>148</th>\n",
       "      <td>2</td>\n",
       "      <td>F2</td>\n",
       "    </tr>\n",
       "    <tr>\n",
       "      <th>183</th>\n",
       "      <td>2</td>\n",
       "      <td>F4</td>\n",
       "    </tr>\n",
       "    <tr>\n",
       "      <th>193</th>\n",
       "      <td>2</td>\n",
       "      <td>F2</td>\n",
       "    </tr>\n",
       "    <tr>\n",
       "      <th>292</th>\n",
       "      <td>2</td>\n",
       "      <td>D</td>\n",
       "    </tr>\n",
       "    <tr>\n",
       "      <th>303</th>\n",
       "      <td>2</td>\n",
       "      <td>E101</td>\n",
       "    </tr>\n",
       "    <tr>\n",
       "      <th>327</th>\n",
       "      <td>2</td>\n",
       "      <td>D</td>\n",
       "    </tr>\n",
       "    <tr>\n",
       "      <th>340</th>\n",
       "      <td>2</td>\n",
       "      <td>F2</td>\n",
       "    </tr>\n",
       "    <tr>\n",
       "      <th>345</th>\n",
       "      <td>2</td>\n",
       "      <td>F33</td>\n",
       "    </tr>\n",
       "    <tr>\n",
       "      <th>473</th>\n",
       "      <td>2</td>\n",
       "      <td>D</td>\n",
       "    </tr>\n",
       "    <tr>\n",
       "      <th>516</th>\n",
       "      <td>2</td>\n",
       "      <td>F33</td>\n",
       "    </tr>\n",
       "    <tr>\n",
       "      <th>618</th>\n",
       "      <td>2</td>\n",
       "      <td>F4</td>\n",
       "    </tr>\n",
       "    <tr>\n",
       "      <th>717</th>\n",
       "      <td>2</td>\n",
       "      <td>E101</td>\n",
       "    </tr>\n",
       "    <tr>\n",
       "      <th>772</th>\n",
       "      <td>2</td>\n",
       "      <td>E77</td>\n",
       "    </tr>\n",
       "  </tbody>\n",
       "</table>\n",
       "</div>"
      ],
      "text/plain": [
       "     Pclass Cabin\n",
       "21        2   D56\n",
       "66        2   F33\n",
       "123       2  E101\n",
       "148       2    F2\n",
       "183       2    F4\n",
       "193       2    F2\n",
       "292       2     D\n",
       "303       2  E101\n",
       "327       2     D\n",
       "340       2    F2\n",
       "345       2   F33\n",
       "473       2     D\n",
       "516       2   F33\n",
       "618       2    F4\n",
       "717       2  E101\n",
       "772       2   E77"
      ]
     },
     "execution_count": 7,
     "metadata": {},
     "output_type": "execute_result"
    }
   ],
   "source": [
    "cabin_df[cabin_df['Pclass']==2]"
   ]
  },
  {
   "cell_type": "code",
   "execution_count": 8,
   "metadata": {},
   "outputs": [
    {
     "data": {
      "text/html": [
       "<div>\n",
       "<style>\n",
       "    .dataframe thead tr:only-child th {\n",
       "        text-align: right;\n",
       "    }\n",
       "\n",
       "    .dataframe thead th {\n",
       "        text-align: left;\n",
       "    }\n",
       "\n",
       "    .dataframe tbody tr th {\n",
       "        vertical-align: top;\n",
       "    }\n",
       "</style>\n",
       "<table border=\"1\" class=\"dataframe\">\n",
       "  <thead>\n",
       "    <tr style=\"text-align: right;\">\n",
       "      <th></th>\n",
       "      <th>Pclass</th>\n",
       "      <th>Cabin</th>\n",
       "    </tr>\n",
       "  </thead>\n",
       "  <tbody>\n",
       "    <tr>\n",
       "      <th>10</th>\n",
       "      <td>3</td>\n",
       "      <td>G6</td>\n",
       "    </tr>\n",
       "    <tr>\n",
       "      <th>75</th>\n",
       "      <td>3</td>\n",
       "      <td>F G73</td>\n",
       "    </tr>\n",
       "    <tr>\n",
       "      <th>128</th>\n",
       "      <td>3</td>\n",
       "      <td>F E69</td>\n",
       "    </tr>\n",
       "    <tr>\n",
       "      <th>205</th>\n",
       "      <td>3</td>\n",
       "      <td>G6</td>\n",
       "    </tr>\n",
       "    <tr>\n",
       "      <th>251</th>\n",
       "      <td>3</td>\n",
       "      <td>G6</td>\n",
       "    </tr>\n",
       "    <tr>\n",
       "      <th>394</th>\n",
       "      <td>3</td>\n",
       "      <td>G6</td>\n",
       "    </tr>\n",
       "    <tr>\n",
       "      <th>429</th>\n",
       "      <td>3</td>\n",
       "      <td>E10</td>\n",
       "    </tr>\n",
       "    <tr>\n",
       "      <th>699</th>\n",
       "      <td>3</td>\n",
       "      <td>F G63</td>\n",
       "    </tr>\n",
       "    <tr>\n",
       "      <th>715</th>\n",
       "      <td>3</td>\n",
       "      <td>F G73</td>\n",
       "    </tr>\n",
       "    <tr>\n",
       "      <th>751</th>\n",
       "      <td>3</td>\n",
       "      <td>E121</td>\n",
       "    </tr>\n",
       "    <tr>\n",
       "      <th>776</th>\n",
       "      <td>3</td>\n",
       "      <td>F38</td>\n",
       "    </tr>\n",
       "    <tr>\n",
       "      <th>823</th>\n",
       "      <td>3</td>\n",
       "      <td>E121</td>\n",
       "    </tr>\n",
       "  </tbody>\n",
       "</table>\n",
       "</div>"
      ],
      "text/plain": [
       "     Pclass  Cabin\n",
       "10        3     G6\n",
       "75        3  F G73\n",
       "128       3  F E69\n",
       "205       3     G6\n",
       "251       3     G6\n",
       "394       3     G6\n",
       "429       3    E10\n",
       "699       3  F G63\n",
       "715       3  F G73\n",
       "751       3   E121\n",
       "776       3    F38\n",
       "823       3   E121"
      ]
     },
     "execution_count": 8,
     "metadata": {},
     "output_type": "execute_result"
    }
   ],
   "source": [
    "cabin_df[cabin_df['Pclass']==3]"
   ]
  },
  {
   "cell_type": "markdown",
   "metadata": {},
   "source": [
    "**Observation(s):**   \n",
    "1. There is no intended association between the missing *Cabin* entries and the *Pclass* types, since it is possible for each *Pclass* to have *Cabin* data.\n",
    "2. However, each *Pclass* appears to have missing *Cabin* data, with the most pronounce omission of *Cabin* data coming from *Pclass* 3. \n",
    "3. The above printouts of *Cabin* entries against each *Pclass* demonstrate that the cabin names across the classes take the same notation of an alphabet followed by numeric digits.\n",
    "4. Specifically for *Pclass* 3 where most *Cabin* data are missing, there is no cabin name notation to suggest that passengers on this class were housed in common \"public\" cabins.\n",
    "5. The `NaN` values in *Cabin* are possibly due to omission of the information, unintentionally or otherwise. \n",
    "\n",
    "**Additional Observation(s):** Besides missing data, the *Cabin* column contains errant data:\n",
    "1. Missing numeric digit(s).\n",
    "2. Prefixed with another alphabet (e.g. *F G73*).\n",
    "3. The above errant entries are detected in entries for Pclass 2 and Class 3 data. Other errant entry types could exist in Pclass 1 data.  \n",
    "\n",
    "#### 2.1.2 Quick Glance into Missing Values in Column 'Age'"
   ]
  },
  {
   "cell_type": "code",
   "execution_count": 9,
   "metadata": {},
   "outputs": [
    {
     "name": "stdout",
     "output_type": "stream",
     "text": [
      "Count of passengers with missing age data = 177\n"
     ]
    },
    {
     "data": {
      "text/html": [
       "<div>\n",
       "<style>\n",
       "    .dataframe thead tr:only-child th {\n",
       "        text-align: right;\n",
       "    }\n",
       "\n",
       "    .dataframe thead th {\n",
       "        text-align: left;\n",
       "    }\n",
       "\n",
       "    .dataframe tbody tr th {\n",
       "        vertical-align: top;\n",
       "    }\n",
       "</style>\n",
       "<table border=\"1\" class=\"dataframe\">\n",
       "  <thead>\n",
       "    <tr style=\"text-align: right;\">\n",
       "      <th></th>\n",
       "      <th></th>\n",
       "      <th>PassengerId</th>\n",
       "      <th>Survived</th>\n",
       "      <th>Name</th>\n",
       "      <th>Age</th>\n",
       "      <th>SibSp</th>\n",
       "      <th>Parch</th>\n",
       "      <th>Ticket</th>\n",
       "      <th>Fare</th>\n",
       "      <th>Cabin</th>\n",
       "      <th>Embarked</th>\n",
       "    </tr>\n",
       "    <tr>\n",
       "      <th>Pclass</th>\n",
       "      <th>Sex</th>\n",
       "      <th></th>\n",
       "      <th></th>\n",
       "      <th></th>\n",
       "      <th></th>\n",
       "      <th></th>\n",
       "      <th></th>\n",
       "      <th></th>\n",
       "      <th></th>\n",
       "      <th></th>\n",
       "      <th></th>\n",
       "    </tr>\n",
       "  </thead>\n",
       "  <tbody>\n",
       "    <tr>\n",
       "      <th rowspan=\"2\" valign=\"top\">1</th>\n",
       "      <th>female</th>\n",
       "      <td>9</td>\n",
       "      <td>9</td>\n",
       "      <td>9</td>\n",
       "      <td>0</td>\n",
       "      <td>9</td>\n",
       "      <td>9</td>\n",
       "      <td>9</td>\n",
       "      <td>9</td>\n",
       "      <td>5</td>\n",
       "      <td>9</td>\n",
       "    </tr>\n",
       "    <tr>\n",
       "      <th>male</th>\n",
       "      <td>21</td>\n",
       "      <td>21</td>\n",
       "      <td>21</td>\n",
       "      <td>0</td>\n",
       "      <td>21</td>\n",
       "      <td>21</td>\n",
       "      <td>21</td>\n",
       "      <td>21</td>\n",
       "      <td>11</td>\n",
       "      <td>21</td>\n",
       "    </tr>\n",
       "    <tr>\n",
       "      <th rowspan=\"2\" valign=\"top\">2</th>\n",
       "      <th>female</th>\n",
       "      <td>2</td>\n",
       "      <td>2</td>\n",
       "      <td>2</td>\n",
       "      <td>0</td>\n",
       "      <td>2</td>\n",
       "      <td>2</td>\n",
       "      <td>2</td>\n",
       "      <td>2</td>\n",
       "      <td>1</td>\n",
       "      <td>2</td>\n",
       "    </tr>\n",
       "    <tr>\n",
       "      <th>male</th>\n",
       "      <td>9</td>\n",
       "      <td>9</td>\n",
       "      <td>9</td>\n",
       "      <td>0</td>\n",
       "      <td>9</td>\n",
       "      <td>9</td>\n",
       "      <td>9</td>\n",
       "      <td>9</td>\n",
       "      <td>0</td>\n",
       "      <td>9</td>\n",
       "    </tr>\n",
       "    <tr>\n",
       "      <th rowspan=\"2\" valign=\"top\">3</th>\n",
       "      <th>female</th>\n",
       "      <td>42</td>\n",
       "      <td>42</td>\n",
       "      <td>42</td>\n",
       "      <td>0</td>\n",
       "      <td>42</td>\n",
       "      <td>42</td>\n",
       "      <td>42</td>\n",
       "      <td>42</td>\n",
       "      <td>1</td>\n",
       "      <td>42</td>\n",
       "    </tr>\n",
       "    <tr>\n",
       "      <th>male</th>\n",
       "      <td>94</td>\n",
       "      <td>94</td>\n",
       "      <td>94</td>\n",
       "      <td>0</td>\n",
       "      <td>94</td>\n",
       "      <td>94</td>\n",
       "      <td>94</td>\n",
       "      <td>94</td>\n",
       "      <td>1</td>\n",
       "      <td>94</td>\n",
       "    </tr>\n",
       "  </tbody>\n",
       "</table>\n",
       "</div>"
      ],
      "text/plain": [
       "               PassengerId  Survived  Name  Age  SibSp  Parch  Ticket  Fare  \\\n",
       "Pclass Sex                                                                    \n",
       "1      female            9         9     9    0      9      9       9     9   \n",
       "       male             21        21    21    0     21     21      21    21   \n",
       "2      female            2         2     2    0      2      2       2     2   \n",
       "       male              9         9     9    0      9      9       9     9   \n",
       "3      female           42        42    42    0     42     42      42    42   \n",
       "       male             94        94    94    0     94     94      94    94   \n",
       "\n",
       "               Cabin  Embarked  \n",
       "Pclass Sex                      \n",
       "1      female      5         9  \n",
       "       male       11        21  \n",
       "2      female      1         2  \n",
       "       male        0         9  \n",
       "3      female      1        42  \n",
       "       male        1        94  "
      ]
     },
     "execution_count": 9,
     "metadata": {},
     "output_type": "execute_result"
    }
   ],
   "source": [
    "### Take a quick look at rows with missing 'Age' data.\n",
    "df = titanic_df[titanic_df['Age'].isnull()]\n",
    "print \"Count of passengers with missing age data = %i\" % df['PassengerId'].count()\n",
    "df.groupby(['Pclass', 'Sex']).count()"
   ]
  },
  {
   "cell_type": "markdown",
   "metadata": {},
   "source": [
    "**Observation(s):**   \n",
    "1. 177 of 891 passengers have missing age data.\n",
    "2. These missing entries are found across all *Pclass* and gender types.\n",
    "3. There is no apparent pattern to suggest that the missing age data can be subtituted.\n",
    "  * It is conceivable that the missing age data is replaced by an arbitrarily value derived from the mean or median of ages from other passengers.\n",
    "  * Or perhaps filled in using the mean or median ages from the respective genders of other passengers."
   ]
  },
  {
   "cell_type": "markdown",
   "metadata": {},
   "source": [
    "### 2.2 Data Cleaning\n",
    "The independent variables of interest in this project does not include the cabin of the passengers. Hence, no attempt is made to clean up the missing data in *Cabin* column.\n",
    "\n",
    "On the other hand, *Age* is one of the independent variable to be studied. Looking at the DataFrame in relation to the age data, there is no apparent pattern to suggest the possibility of replacing the missing values with accurate substitutes. Hence, for the succeeding analysis involving age data, only the rows with available age value are considered.\n",
    "\n",
    "Otherwise, analysis not involving *Age* column proceeds with the given dataset."
   ]
  },
  {
   "cell_type": "code",
   "execution_count": 10,
   "metadata": {},
   "outputs": [
    {
     "name": "stdout",
     "output_type": "stream",
     "text": [
      "(714, 12)\n"
     ]
    }
   ],
   "source": [
    "# Create a new DataFrame to exclude rows missing age data.\n",
    "titanic_a = titanic_df[titanic_df['Age'].notnull()]\n",
    "print titanic_a.shape"
   ]
  },
  {
   "cell_type": "markdown",
   "metadata": {},
   "source": [
    "**Observation(s):** The new DataFrame has 714 rows and 12 columns."
   ]
  },
  {
   "cell_type": "markdown",
   "metadata": {},
   "source": [
    "<a id='eda'></a>\n",
    "## 3 Exploratory Data Analysis\n",
    "<a id='passengers'></a>\n",
    "### 3.1 Passengers\n",
    "This chapter explores the metrics on passengers in the dataset."
   ]
  },
  {
   "cell_type": "code",
   "execution_count": 11,
   "metadata": {
    "collapsed": true
   },
   "outputs": [],
   "source": [
    "# Function takes in a column, groups the entries in the column.\n",
    "# Returns count of entries per group & the percentage of each group against total passengers. \n",
    "def percentage_passengers(grpby):\n",
    "    s = titanic_df.groupby(grpby)['PassengerId'].count()  # Group & count passengers.\n",
    "    total_passengers = float(s.sum())  # Compute total passengers & converts to float for use as denominator.\n",
    "    percentage = s.div(total_passengers) * 100\n",
    "    return s.append(percentage)"
   ]
  },
  {
   "cell_type": "code",
   "execution_count": 12,
   "metadata": {},
   "outputs": [
    {
     "name": "stdout",
     "output_type": "stream",
     "text": [
      "Sex\n",
      "female    314.000000\n",
      "male      577.000000\n",
      "female     35.241302\n",
      "male       64.758698\n",
      "Name: PassengerId, dtype: float64\n"
     ]
    }
   ],
   "source": [
    "print percentage_passengers('Sex')"
   ]
  },
  {
   "cell_type": "code",
   "execution_count": 13,
   "metadata": {},
   "outputs": [
    {
     "name": "stdout",
     "output_type": "stream",
     "text": [
      "Pclass\n",
      "1    216.000000\n",
      "2    184.000000\n",
      "3    491.000000\n",
      "1     24.242424\n",
      "2     20.650954\n",
      "3     55.106622\n",
      "Name: PassengerId, dtype: float64\n"
     ]
    }
   ],
   "source": [
    "print percentage_passengers('Pclass')"
   ]
  },
  {
   "cell_type": "code",
   "execution_count": 14,
   "metadata": {},
   "outputs": [
    {
     "name": "stdout",
     "output_type": "stream",
     "text": [
      "Embarked\n",
      "C    168.000000\n",
      "Q     77.000000\n",
      "S    644.000000\n",
      "C     18.897638\n",
      "Q      8.661417\n",
      "S     72.440945\n",
      "Name: PassengerId, dtype: float64\n"
     ]
    }
   ],
   "source": [
    "print percentage_passengers('Embarked')"
   ]
  },
  {
   "cell_type": "code",
   "execution_count": 15,
   "metadata": {},
   "outputs": [
    {
     "name": "stdout",
     "output_type": "stream",
     "text": [
      "Survived\n",
      "0    549.000000\n",
      "1    342.000000\n",
      "0     61.616162\n",
      "1     38.383838\n",
      "Name: PassengerId, dtype: float64\n"
     ]
    }
   ],
   "source": [
    "print percentage_passengers('Survived')"
   ]
  },
  {
   "cell_type": "code",
   "execution_count": 16,
   "metadata": {},
   "outputs": [
    {
     "data": {
      "text/html": [
       "<div>\n",
       "<style>\n",
       "    .dataframe thead tr:only-child th {\n",
       "        text-align: right;\n",
       "    }\n",
       "\n",
       "    .dataframe thead th {\n",
       "        text-align: left;\n",
       "    }\n",
       "\n",
       "    .dataframe tbody tr th {\n",
       "        vertical-align: top;\n",
       "    }\n",
       "</style>\n",
       "<table border=\"1\" class=\"dataframe\">\n",
       "  <thead>\n",
       "    <tr style=\"text-align: right;\">\n",
       "      <th></th>\n",
       "      <th>Age</th>\n",
       "      <th>SibSp</th>\n",
       "      <th>Parch</th>\n",
       "      <th>Fare</th>\n",
       "    </tr>\n",
       "  </thead>\n",
       "  <tbody>\n",
       "    <tr>\n",
       "      <th>count</th>\n",
       "      <td>714.000000</td>\n",
       "      <td>891.000000</td>\n",
       "      <td>891.000000</td>\n",
       "      <td>891.000000</td>\n",
       "    </tr>\n",
       "    <tr>\n",
       "      <th>mean</th>\n",
       "      <td>29.699118</td>\n",
       "      <td>0.523008</td>\n",
       "      <td>0.381594</td>\n",
       "      <td>32.204208</td>\n",
       "    </tr>\n",
       "    <tr>\n",
       "      <th>std</th>\n",
       "      <td>14.516321</td>\n",
       "      <td>1.102124</td>\n",
       "      <td>0.805605</td>\n",
       "      <td>49.665534</td>\n",
       "    </tr>\n",
       "    <tr>\n",
       "      <th>min</th>\n",
       "      <td>0.420000</td>\n",
       "      <td>0.000000</td>\n",
       "      <td>0.000000</td>\n",
       "      <td>0.000000</td>\n",
       "    </tr>\n",
       "    <tr>\n",
       "      <th>25%</th>\n",
       "      <td>20.125000</td>\n",
       "      <td>0.000000</td>\n",
       "      <td>0.000000</td>\n",
       "      <td>7.910400</td>\n",
       "    </tr>\n",
       "    <tr>\n",
       "      <th>50%</th>\n",
       "      <td>28.000000</td>\n",
       "      <td>0.000000</td>\n",
       "      <td>0.000000</td>\n",
       "      <td>14.454200</td>\n",
       "    </tr>\n",
       "    <tr>\n",
       "      <th>75%</th>\n",
       "      <td>38.000000</td>\n",
       "      <td>1.000000</td>\n",
       "      <td>0.000000</td>\n",
       "      <td>31.000000</td>\n",
       "    </tr>\n",
       "    <tr>\n",
       "      <th>max</th>\n",
       "      <td>80.000000</td>\n",
       "      <td>8.000000</td>\n",
       "      <td>6.000000</td>\n",
       "      <td>512.329200</td>\n",
       "    </tr>\n",
       "  </tbody>\n",
       "</table>\n",
       "</div>"
      ],
      "text/plain": [
       "              Age       SibSp       Parch        Fare\n",
       "count  714.000000  891.000000  891.000000  891.000000\n",
       "mean    29.699118    0.523008    0.381594   32.204208\n",
       "std     14.516321    1.102124    0.805605   49.665534\n",
       "min      0.420000    0.000000    0.000000    0.000000\n",
       "25%     20.125000    0.000000    0.000000    7.910400\n",
       "50%     28.000000    0.000000    0.000000   14.454200\n",
       "75%     38.000000    1.000000    0.000000   31.000000\n",
       "max     80.000000    8.000000    6.000000  512.329200"
      ]
     },
     "execution_count": 16,
     "metadata": {},
     "output_type": "execute_result"
    }
   ],
   "source": [
    "# Produce metrics.\n",
    "passenger_metrics = titanic_df.describe()\n",
    "\n",
    "# Retain meaningful metrics by excluding categorical values.\n",
    "numeric_data = ['Age', 'SibSp', 'Parch', 'Fare']\n",
    "passenger_metrics = passenger_metrics[numeric_data]\n",
    "\n",
    "# Revise standard deviation value in metrics to one without Bessel's Correction.\n",
    "passenger_metrics.loc['std'] = titanic_df[numeric_data].std(ddof=0)\n",
    "passenger_metrics"
   ]
  },
  {
   "cell_type": "markdown",
   "metadata": {},
   "source": [
    "**Summary of Observations:**\n",
    "\n",
    "| No. | Description | Value \n",
    "|:----|:---|---:\n",
    "| 1.  | Total passengers | 891 \n",
    "| 2.  | Gender | |\n",
    "|   | Male passengers (%) | 577 (65%)\n",
    "|   | Female passengers (%) | 314 (35%)\n",
    "| 3.  | Ticket Class | |\n",
    "|   | 1st Class tickets (%) | 216 (24%)\n",
    "|   | 2nd Class tickets (%) | 184 (21%)\n",
    "|   | 3rd Class tickets (%) | 491 (55%)\n",
    "| 4.  | Embarkation Port | |\n",
    "|   | Passengers from Cherbourg (%) | 168 (19%)\n",
    "|   | Passengers from Queenstown (%) | 77 (9%)\n",
    "|   | Passengers from Southampton (%) | 644 (72%) \n",
    "| 5.  | Passengers' average age | 29.7 years\n",
    "|   | Youngest passenger's age | 5 months\n",
    "|   | Oldest passenger's age | 80 years\n",
    "| 6.  | Fare price, average | USD 32.20\n",
    "|   | Fare price, lowest | USD 0.00\n",
    "|   | Fare price, highest | USD 512.33\n",
    "| 7.  | About 1 in every 2 passengers boarded with a sibling or spouse. | |\n",
    "| 8.  | At least 1 passenger had 8 knowns siblings or spouse onboard.  | |\n",
    "| 9.  | About 1 in every 3 passengers boarded with a parent or a child. | |\n",
    "| 10.  | Survivors (%) | 342 (38%)"
   ]
  },
  {
   "cell_type": "markdown",
   "metadata": {},
   "source": [
    "<a id='pclass'></a>\n",
    "### 3.2 Survivability based on *Pclass*"
   ]
  },
  {
   "cell_type": "code",
   "execution_count": 17,
   "metadata": {
    "collapsed": true
   },
   "outputs": [],
   "source": [
    "### In this and subsequent chapters, there is a need to produce plots containing the dependent variables\n",
    "### 'Survived=1' and 'Survived=0' against a specific independent variable. A function is written to return the\n",
    "### results based on column names passed into the function.\n",
    "\n",
    "# Function that takes in 1 DataFrame and 1 column name in DataFrame and returns series or DataFrame\n",
    "# for survivors and non-survivors.\n",
    "def split_by_survived(df, col_name):\n",
    "    grpby_survivors = df.groupby('Survived')\n",
    "    survivors = grpby_survivors[col_name].get_group(1).dropna()  # dropna() to remove NaN entries.\n",
    "    nonSurvivors = grpby_survivors[col_name].get_group(0).dropna()\n",
    "    return survivors, nonSurvivors"
   ]
  },
  {
   "cell_type": "code",
   "execution_count": 18,
   "metadata": {},
   "outputs": [
    {
     "data": {
      "text/html": [
       "<div>\n",
       "<style>\n",
       "    .dataframe thead tr:only-child th {\n",
       "        text-align: right;\n",
       "    }\n",
       "\n",
       "    .dataframe thead th {\n",
       "        text-align: left;\n",
       "    }\n",
       "\n",
       "    .dataframe tbody tr th {\n",
       "        vertical-align: top;\n",
       "    }\n",
       "</style>\n",
       "<table border=\"1\" class=\"dataframe\">\n",
       "  <thead>\n",
       "    <tr style=\"text-align: right;\">\n",
       "      <th></th>\n",
       "      <th>count</th>\n",
       "      <th>mean</th>\n",
       "      <th>std</th>\n",
       "      <th>min</th>\n",
       "      <th>25%</th>\n",
       "      <th>50%</th>\n",
       "      <th>75%</th>\n",
       "      <th>max</th>\n",
       "    </tr>\n",
       "    <tr>\n",
       "      <th>Pclass</th>\n",
       "      <th></th>\n",
       "      <th></th>\n",
       "      <th></th>\n",
       "      <th></th>\n",
       "      <th></th>\n",
       "      <th></th>\n",
       "      <th></th>\n",
       "      <th></th>\n",
       "    </tr>\n",
       "  </thead>\n",
       "  <tbody>\n",
       "    <tr>\n",
       "      <th>1</th>\n",
       "      <td>216.0</td>\n",
       "      <td>0.629630</td>\n",
       "      <td>0.484026</td>\n",
       "      <td>0.0</td>\n",
       "      <td>0.0</td>\n",
       "      <td>1.0</td>\n",
       "      <td>1.0</td>\n",
       "      <td>1.0</td>\n",
       "    </tr>\n",
       "    <tr>\n",
       "      <th>2</th>\n",
       "      <td>184.0</td>\n",
       "      <td>0.472826</td>\n",
       "      <td>0.500623</td>\n",
       "      <td>0.0</td>\n",
       "      <td>0.0</td>\n",
       "      <td>0.0</td>\n",
       "      <td>1.0</td>\n",
       "      <td>1.0</td>\n",
       "    </tr>\n",
       "    <tr>\n",
       "      <th>3</th>\n",
       "      <td>491.0</td>\n",
       "      <td>0.242363</td>\n",
       "      <td>0.428949</td>\n",
       "      <td>0.0</td>\n",
       "      <td>0.0</td>\n",
       "      <td>0.0</td>\n",
       "      <td>0.0</td>\n",
       "      <td>1.0</td>\n",
       "    </tr>\n",
       "  </tbody>\n",
       "</table>\n",
       "</div>"
      ],
      "text/plain": [
       "        count      mean       std  min  25%  50%  75%  max\n",
       "Pclass                                                    \n",
       "1       216.0  0.629630  0.484026  0.0  0.0  1.0  1.0  1.0\n",
       "2       184.0  0.472826  0.500623  0.0  0.0  0.0  1.0  1.0\n",
       "3       491.0  0.242363  0.428949  0.0  0.0  0.0  0.0  1.0"
      ]
     },
     "execution_count": 18,
     "metadata": {},
     "output_type": "execute_result"
    }
   ],
   "source": [
    "# Examine survivability based on Pclass\n",
    "titanic_df.groupby('Pclass')['Survived'].describe()"
   ]
  },
  {
   "cell_type": "markdown",
   "metadata": {},
   "source": [
    "**Observation(s):** \n",
    "1. The *count* columns shows the survivors within each Pclass, and the *mean* column represents the ratio of survivors over passengers in each Pclass.\\*\n",
    "2. Highest survival rate was from 1st class cabin where 62.9% of passengers in that class survived, followed by 2nd class cabin at 47.2%. Only 24.4% of 3rd class cabin passengers survived. \n",
    "\n",
    "\\* Since survivors are represented by 1's and non-survivors by 0's in the *Survived* column of the DataFrame, the *mean* is really the sum of all the 1's over the total count of 1's and 0's; effectively representing the survival rate.\n"
   ]
  },
  {
   "cell_type": "code",
   "execution_count": 19,
   "metadata": {},
   "outputs": [
    {
     "data": {
      "text/html": [
       "<div>\n",
       "<style>\n",
       "    .dataframe thead tr:only-child th {\n",
       "        text-align: right;\n",
       "    }\n",
       "\n",
       "    .dataframe thead th {\n",
       "        text-align: left;\n",
       "    }\n",
       "\n",
       "    .dataframe tbody tr th {\n",
       "        vertical-align: top;\n",
       "    }\n",
       "</style>\n",
       "<table border=\"1\" class=\"dataframe\">\n",
       "  <thead>\n",
       "    <tr style=\"text-align: right;\">\n",
       "      <th></th>\n",
       "      <th>Pclass</th>\n",
       "      <th>passengers</th>\n",
       "      <th>survivors</th>\n",
       "      <th>non-survivors</th>\n",
       "      <th>survivors_ratio</th>\n",
       "    </tr>\n",
       "  </thead>\n",
       "  <tbody>\n",
       "    <tr>\n",
       "      <th>0</th>\n",
       "      <td>1</td>\n",
       "      <td>216</td>\n",
       "      <td>136</td>\n",
       "      <td>80</td>\n",
       "      <td>0.629630</td>\n",
       "    </tr>\n",
       "    <tr>\n",
       "      <th>1</th>\n",
       "      <td>2</td>\n",
       "      <td>184</td>\n",
       "      <td>87</td>\n",
       "      <td>97</td>\n",
       "      <td>0.472826</td>\n",
       "    </tr>\n",
       "    <tr>\n",
       "      <th>2</th>\n",
       "      <td>3</td>\n",
       "      <td>491</td>\n",
       "      <td>119</td>\n",
       "      <td>372</td>\n",
       "      <td>0.242363</td>\n",
       "    </tr>\n",
       "  </tbody>\n",
       "</table>\n",
       "</div>"
      ],
      "text/plain": [
       "   Pclass  passengers  survivors  non-survivors  survivors_ratio\n",
       "0       1         216        136             80         0.629630\n",
       "1       2         184         87             97         0.472826\n",
       "2       3         491        119            372         0.242363"
      ]
     },
     "execution_count": 19,
     "metadata": {},
     "output_type": "execute_result"
    }
   ],
   "source": [
    "### Pie chart of passengers and survivors.\n",
    "# Prepare a DataFrame of the data for plotting.\n",
    "Pclass_passengers_df = pd.DataFrame({'passengers': titanic_df.groupby('Pclass')['Survived'].count(), \n",
    "                                     'survivors': titanic_df.groupby('Pclass')['Survived'].sum()\n",
    "                                 }).reset_index()\n",
    "Pclass_passengers_df[\"non-survivors\"] = Pclass_passengers_df['passengers'] - Pclass_passengers_df['survivors']\n",
    "Pclass_passengers_df[\"survivors_ratio\"] = Pclass_passengers_df['survivors'] / Pclass_passengers_df['passengers']\n",
    "Pclass_passengers_df"
   ]
  },
  {
   "cell_type": "code",
   "execution_count": 20,
   "metadata": {},
   "outputs": [
    {
     "data": {
      "text/plain": [
       "<matplotlib.text.Text at 0x9d38860>"
      ]
     },
     "execution_count": 20,
     "metadata": {},
     "output_type": "execute_result"
    },
    {
     "data": {
      "image/png": "[encoded data removed]",
      "text/plain": [
       "<matplotlib.figure.Figure at 0xc27c860>"
      ]
     },
     "metadata": {},
     "output_type": "display_data"
    }
   ],
   "source": [
    "# Pie chart, where the slices will be ordered and plotted counter-clockwise:\n",
    "labels = 'Class ' + Pclass_passengers_df['Pclass'].astype(str)\n",
    "pie1_sizes = Pclass_passengers_df['passengers'] \n",
    "pie2_sizes = Pclass_passengers_df['survivors']\n",
    "explode = (0.1, 0, 0)  # only \"explode\" the 2nd slice (i.e. 'Hogs')\n",
    "\n",
    "f, (pie1, pie2) = plt.subplots(1, 2, figsize=(10, 3.5))\n",
    "plt.suptitle('Passengers and Survivors of Various Ticket Classes', y=1.09, fontsize=16)\n",
    "\n",
    "pie1.pie(pie1_sizes, explode=explode, labels=labels, autopct='%1.1f%%',\\\n",
    "        shadow=True, startangle=90)\n",
    "pie1.axis('equal')  # Equal aspect ratio ensures that pie is drawn as a circle.\n",
    "pie1.set_title(\"Passengers\", fontsize=14, alpha=0.75)\n",
    "\n",
    "pie2.pie(pie2_sizes, explode=explode, labels=labels, autopct='%1.1f%%',\n",
    "        shadow=True, startangle=90)\n",
    "pie2.axis('equal')  # Equal aspect ratio ensures that pie is drawn as a circle.\n",
    "pie2.set_title(\"Survivors\", fontsize=14, alpha=0.75)"
   ]
  },
  {
   "cell_type": "markdown",
   "metadata": {},
   "source": [
    "**Observation(s):** Pie chart illustrates that while Class 1 passengers accounted for 24.2% of all passengers, 39.8% of all survivors were from Class 1."
   ]
  },
  {
   "cell_type": "code",
   "execution_count": 21,
   "metadata": {},
   "outputs": [
    {
     "data": {
      "image/png": "[encoded data removed]",
      "text/plain": [
       "<matplotlib.figure.Figure at 0xc3c1438>"
      ]
     },
     "metadata": {},
     "output_type": "display_data"
    }
   ],
   "source": [
    "### Plot bar chart of survivors ratio within each Pclass & line chart normalized to 1st Class survivors' ratio.\n",
    "# Create plot data.\n",
    "x = Pclass_passengers_df['Pclass']\n",
    "y1 = Pclass_passengers_df['survivors_ratio']\n",
    "y2 = Pclass_passengers_df['survivors_ratio']/min(Pclass_passengers_df['survivors_ratio'])\n",
    "y2_label = ['%.2f' % elem for elem in y2] # Rounds each number in 'y2' to 2 decimal places for labelling line chart.\n",
    "\n",
    "# Set the overall chart style.\n",
    "sns.set_style(\"darkgrid\", {'xtick.major.size': 3.0})\n",
    "\n",
    "# Create the figure.\n",
    "f = plt.figure(figsize=(5,7))\n",
    "f.suptitle('Survivors\\' Ratio versus Ticket Class', fontsize=16.0)\n",
    "\n",
    "# Create the gridspec.\n",
    "gs = gridspec.GridSpec(2,1, height_ratios=[0.3, 1], width_ratios=[1])\n",
    "\n",
    "# Plot the bar chart of survivors' ratio within each Class.\n",
    "ax1 = plt.subplot(gs[1, :])  # Place the 1st plot on grid\n",
    "ax1.bar(x, y1, color='orange', alpha=0.5, width=0.5)\n",
    "ax1.set_ylim([0,0.7])\n",
    "ax1.set_xlabel('\\n Ticket Class', fontsize=13, alpha=0.75)\n",
    "ax1.set_ylabel('Survivors to Passengers Ratio \\n', fontsize=13, alpha=0.75)\n",
    "ax1.set_xticks(x)\n",
    "\n",
    "# Plot the line chart of survivability factor over Class 3's survivor's ratio. \n",
    "ax2 = plt.subplot(gs[0, :], sharex=ax1)\n",
    "ax2.plot(x, y2, color='blue', alpha=1)\n",
    "ax2.set_ylim([0,3.0])\n",
    "ax2.set_xlabel('')\n",
    "ax2.set_ylabel('Factor over \\nClass 3', fontsize=13, alpha=0.75)\n",
    "\n",
    "for label, x, y in zip(y2_label, x, y2):\n",
    "    ax2.annotate(\n",
    "        label,\n",
    "        xy=(x, y), xytext=(-5, -25),\n",
    "        textcoords='offset points', ha='right', va='bottom',\n",
    "        arrowprops=dict(arrowstyle = '->', connectionstyle='arc3,rad=0'))\n",
    "\n",
    "# Set the tick size on x-axis for visibility.\n",
    "ax1.tick_params(labelsize=10)\n",
    "ax2.tick_params(labelsize=10)\n",
    "\n",
    "# Gridspec code inspired by http://www.sc.eso.org/~bdias/pycoffee/codes/20160407/gridspec_demo.html"
   ]
  },
  {
   "cell_type": "markdown",
   "metadata": {},
   "source": [
    "**Observation(s):** \n",
    "1. Highest survival rate was from 1st class cabin where 62.9% of passengers in that class survived, followed by 2nd class cabin at 47.2%. Only 24.4% of 3rd class cabin passengers survived. \n",
    "2. Survival rate of 1st class passengers was almost 2.6 times that of passengers in 3rd class.\n",
    "3. Survival rate of 2nd class passengers was close to 2 times that of passengers in 3rd class.\n",
    "\n",
    "With the notably higher chance for survival for 1st class passengers versus 3rd class passengers, one wonders what the price was to procure a 1st class ticket and how did that compare to 3rd class ticket fare?\n",
    "\n",
    "<a id='fares pclass'></a>\n",
    "### 3.3 Ticket Prices between Pclass"
   ]
  },
  {
   "cell_type": "code",
   "execution_count": 22,
   "metadata": {},
   "outputs": [
    {
     "data": {
      "text/html": [
       "<div>\n",
       "<style>\n",
       "    .dataframe thead tr:only-child th {\n",
       "        text-align: right;\n",
       "    }\n",
       "\n",
       "    .dataframe thead th {\n",
       "        text-align: left;\n",
       "    }\n",
       "\n",
       "    .dataframe tbody tr th {\n",
       "        vertical-align: top;\n",
       "    }\n",
       "</style>\n",
       "<table border=\"1\" class=\"dataframe\">\n",
       "  <thead>\n",
       "    <tr style=\"text-align: right;\">\n",
       "      <th></th>\n",
       "      <th>count</th>\n",
       "      <th>mean</th>\n",
       "      <th>std</th>\n",
       "      <th>min</th>\n",
       "      <th>25%</th>\n",
       "      <th>50%</th>\n",
       "      <th>75%</th>\n",
       "      <th>max</th>\n",
       "    </tr>\n",
       "    <tr>\n",
       "      <th>Pclass</th>\n",
       "      <th></th>\n",
       "      <th></th>\n",
       "      <th></th>\n",
       "      <th></th>\n",
       "      <th></th>\n",
       "      <th></th>\n",
       "      <th></th>\n",
       "      <th></th>\n",
       "    </tr>\n",
       "  </thead>\n",
       "  <tbody>\n",
       "    <tr>\n",
       "      <th>1</th>\n",
       "      <td>216.0</td>\n",
       "      <td>84.154687</td>\n",
       "      <td>78.380373</td>\n",
       "      <td>0.0</td>\n",
       "      <td>30.92395</td>\n",
       "      <td>60.2875</td>\n",
       "      <td>93.5</td>\n",
       "      <td>512.3292</td>\n",
       "    </tr>\n",
       "    <tr>\n",
       "      <th>2</th>\n",
       "      <td>184.0</td>\n",
       "      <td>20.662183</td>\n",
       "      <td>13.417399</td>\n",
       "      <td>0.0</td>\n",
       "      <td>13.00000</td>\n",
       "      <td>14.2500</td>\n",
       "      <td>26.0</td>\n",
       "      <td>73.5000</td>\n",
       "    </tr>\n",
       "    <tr>\n",
       "      <th>3</th>\n",
       "      <td>491.0</td>\n",
       "      <td>13.675550</td>\n",
       "      <td>11.778142</td>\n",
       "      <td>0.0</td>\n",
       "      <td>7.75000</td>\n",
       "      <td>8.0500</td>\n",
       "      <td>15.5</td>\n",
       "      <td>69.5500</td>\n",
       "    </tr>\n",
       "  </tbody>\n",
       "</table>\n",
       "</div>"
      ],
      "text/plain": [
       "        count       mean        std  min       25%      50%   75%       max\n",
       "Pclass                                                                     \n",
       "1       216.0  84.154687  78.380373  0.0  30.92395  60.2875  93.5  512.3292\n",
       "2       184.0  20.662183  13.417399  0.0  13.00000  14.2500  26.0   73.5000\n",
       "3       491.0  13.675550  11.778142  0.0   7.75000   8.0500  15.5   69.5500"
      ]
     },
     "execution_count": 22,
     "metadata": {},
     "output_type": "execute_result"
    }
   ],
   "source": [
    "Pclass_price = titanic_df.groupby('Pclass')['Fare'].describe()\n",
    "Pclass_price"
   ]
  },
  {
   "cell_type": "code",
   "execution_count": 23,
   "metadata": {},
   "outputs": [
    {
     "name": "stdout",
     "output_type": "stream",
     "text": [
      "Price ratio of 1st vs 3rd: 6.15366013604\n",
      "Price ratio of 1st vs 3rd: 4.07288459696\n"
     ]
    }
   ],
   "source": [
    "# Look at the factor of average 1st class ticket prices versus 2nd and 3rd.\n",
    "print \"Price ratio of 1st vs 3rd: {}\".format(Pclass_price.loc[1]['mean'] / Pclass_price.loc[3]['mean'])\n",
    "print \"Price ratio of 1st vs 3rd: {}\".format(Pclass_price.loc[1]['mean'] / Pclass_price.loc[2]['mean'])"
   ]
  },
  {
   "cell_type": "code",
   "execution_count": 24,
   "metadata": {},
   "outputs": [
    {
     "data": {
      "text/plain": [
       "Pclass\n",
       "1    62.57605\n",
       "2    13.00000\n",
       "3     7.75000\n",
       "dtype: float64"
      ]
     },
     "execution_count": 24,
     "metadata": {},
     "output_type": "execute_result"
    }
   ],
   "source": [
    "# Compare the IQR of classes.\n",
    "Pclass_price['75%'] - Pclass_price['25%']"
   ]
  },
  {
   "cell_type": "code",
   "execution_count": 25,
   "metadata": {},
   "outputs": [
    {
     "data": {
      "text/plain": [
       "Pclass\n",
       "1    93.138451\n",
       "2    64.936985\n",
       "3    86.125542\n",
       "dtype: float64"
      ]
     },
     "execution_count": 25,
     "metadata": {},
     "output_type": "execute_result"
    }
   ],
   "source": [
    "# Look at the % of 1st SD price over mean price of classes.\n",
    "Pclass_price['std'] / Pclass_price['mean'] * 100"
   ]
  },
  {
   "cell_type": "markdown",
   "metadata": {},
   "source": [
    "**Observation(s) on Pclass fare difference:**\n",
    "1. 1st class average fare is 6 times higher than the average fare for 3rd class.\n",
    "2. 1st class average fare is 4 times higher than the average fare for 2rd class.\n",
    "3. 1st class fares has the highest IQR, indicating a large spread between ticket prices within 1st class itself.\n",
    "4. Perhaps it is understandable that since mean price on 1st class was already high at USD 84.15, the IQR would also be large compared to other classes. Taking an alternative view on the price spread, 1st class tickets has a standard deviation of USD 78.38 for a mean price of USD 84.15. Standard deviation is slightly over 93% of the mean price level, and is the highest among ticket classes.\n",
    "\n",
    "Considering the spread of 1st class ticket price was large, is there a correlation between the different fare ranges in 1st class and the survivors from that class?\n",
    "\n",
    "<a id='1st class passengers'></a>\n",
    "### 3.4 Survivability amongst 1st Class Passengers\n",
    "#### 3.4.1 Plot of Ticket Price Range of 1st Class"
   ]
  },
  {
   "cell_type": "code",
   "execution_count": 26,
   "metadata": {},
   "outputs": [
    {
     "data": {
      "text/html": [
       "<div>\n",
       "<style>\n",
       "    .dataframe thead tr:only-child th {\n",
       "        text-align: right;\n",
       "    }\n",
       "\n",
       "    .dataframe thead th {\n",
       "        text-align: left;\n",
       "    }\n",
       "\n",
       "    .dataframe tbody tr th {\n",
       "        vertical-align: top;\n",
       "    }\n",
       "</style>\n",
       "<table border=\"1\" class=\"dataframe\">\n",
       "  <thead>\n",
       "    <tr style=\"text-align: right;\">\n",
       "      <th></th>\n",
       "      <th>PassengerId</th>\n",
       "      <th>Survived</th>\n",
       "      <th>Pclass</th>\n",
       "      <th>Name</th>\n",
       "      <th>Sex</th>\n",
       "      <th>Age</th>\n",
       "      <th>SibSp</th>\n",
       "      <th>Parch</th>\n",
       "      <th>Ticket</th>\n",
       "      <th>Fare</th>\n",
       "      <th>Cabin</th>\n",
       "      <th>Embarked</th>\n",
       "    </tr>\n",
       "  </thead>\n",
       "  <tbody>\n",
       "    <tr>\n",
       "      <th>1</th>\n",
       "      <td>2</td>\n",
       "      <td>1</td>\n",
       "      <td>1</td>\n",
       "      <td>Cumings, Mrs. John Bradley (Florence Briggs Th...</td>\n",
       "      <td>female</td>\n",
       "      <td>38.0</td>\n",
       "      <td>1</td>\n",
       "      <td>0</td>\n",
       "      <td>PC 17599</td>\n",
       "      <td>71.2833</td>\n",
       "      <td>C85</td>\n",
       "      <td>C</td>\n",
       "    </tr>\n",
       "    <tr>\n",
       "      <th>3</th>\n",
       "      <td>4</td>\n",
       "      <td>1</td>\n",
       "      <td>1</td>\n",
       "      <td>Futrelle, Mrs. Jacques Heath (Lily May Peel)</td>\n",
       "      <td>female</td>\n",
       "      <td>35.0</td>\n",
       "      <td>1</td>\n",
       "      <td>0</td>\n",
       "      <td>113803</td>\n",
       "      <td>53.1000</td>\n",
       "      <td>C123</td>\n",
       "      <td>S</td>\n",
       "    </tr>\n",
       "    <tr>\n",
       "      <th>6</th>\n",
       "      <td>7</td>\n",
       "      <td>0</td>\n",
       "      <td>1</td>\n",
       "      <td>McCarthy, Mr. Timothy J</td>\n",
       "      <td>male</td>\n",
       "      <td>54.0</td>\n",
       "      <td>0</td>\n",
       "      <td>0</td>\n",
       "      <td>17463</td>\n",
       "      <td>51.8625</td>\n",
       "      <td>E46</td>\n",
       "      <td>S</td>\n",
       "    </tr>\n",
       "    <tr>\n",
       "      <th>11</th>\n",
       "      <td>12</td>\n",
       "      <td>1</td>\n",
       "      <td>1</td>\n",
       "      <td>Bonnell, Miss. Elizabeth</td>\n",
       "      <td>female</td>\n",
       "      <td>58.0</td>\n",
       "      <td>0</td>\n",
       "      <td>0</td>\n",
       "      <td>113783</td>\n",
       "      <td>26.5500</td>\n",
       "      <td>C103</td>\n",
       "      <td>S</td>\n",
       "    </tr>\n",
       "    <tr>\n",
       "      <th>23</th>\n",
       "      <td>24</td>\n",
       "      <td>1</td>\n",
       "      <td>1</td>\n",
       "      <td>Sloper, Mr. William Thompson</td>\n",
       "      <td>male</td>\n",
       "      <td>28.0</td>\n",
       "      <td>0</td>\n",
       "      <td>0</td>\n",
       "      <td>113788</td>\n",
       "      <td>35.5000</td>\n",
       "      <td>A6</td>\n",
       "      <td>S</td>\n",
       "    </tr>\n",
       "  </tbody>\n",
       "</table>\n",
       "</div>"
      ],
      "text/plain": [
       "    PassengerId  Survived  Pclass  \\\n",
       "1             2         1       1   \n",
       "3             4         1       1   \n",
       "6             7         0       1   \n",
       "11           12         1       1   \n",
       "23           24         1       1   \n",
       "\n",
       "                                                 Name     Sex   Age  SibSp  \\\n",
       "1   Cumings, Mrs. John Bradley (Florence Briggs Th...  female  38.0      1   \n",
       "3        Futrelle, Mrs. Jacques Heath (Lily May Peel)  female  35.0      1   \n",
       "6                             McCarthy, Mr. Timothy J    male  54.0      0   \n",
       "11                           Bonnell, Miss. Elizabeth  female  58.0      0   \n",
       "23                       Sloper, Mr. William Thompson    male  28.0      0   \n",
       "\n",
       "    Parch    Ticket     Fare Cabin Embarked  \n",
       "1       0  PC 17599  71.2833   C85        C  \n",
       "3       0    113803  53.1000  C123        S  \n",
       "6       0     17463  51.8625   E46        S  \n",
       "11      0    113783  26.5500  C103        S  \n",
       "23      0    113788  35.5000    A6        S  "
      ]
     },
     "execution_count": 26,
     "metadata": {},
     "output_type": "execute_result"
    }
   ],
   "source": [
    "class1_df = titanic_df.groupby('Pclass').get_group(1)\n",
    "class1_df.head()"
   ]
  },
  {
   "cell_type": "code",
   "execution_count": 27,
   "metadata": {},
   "outputs": [
    {
     "data": {
      "text/plain": [
       "count    216.000000\n",
       "mean      84.154687\n",
       "std       78.380373\n",
       "min        0.000000\n",
       "25%       30.923950\n",
       "50%       60.287500\n",
       "75%       93.500000\n",
       "max      512.329200\n",
       "Name: Fare, dtype: float64"
      ]
     },
     "execution_count": 27,
     "metadata": {},
     "output_type": "execute_result"
    }
   ],
   "source": [
    "# Check the new DataFrame is correct.\n",
    "class1_df['Fare'].describe()"
   ]
  },
  {
   "cell_type": "markdown",
   "metadata": {},
   "source": [
    "**Observation(s):** The new *class1_df* DataFrame has metrics consistent with earlier findings. "
   ]
  },
  {
   "cell_type": "code",
   "execution_count": 28,
   "metadata": {},
   "outputs": [
    {
     "data": {
      "image/png": "[encoded data removed]",
      "text/plain": [
       "<matplotlib.figure.Figure at 0xc5766d8>"
      ]
     },
     "metadata": {},
     "output_type": "display_data"
    }
   ],
   "source": [
    "### Plot a histogram to illustrate the price spread.\n",
    "# Prepare the data.\n",
    "x = class1_df['Fare']\n",
    "binsize = 25  # Set bin size at USD25 per bin.\n",
    "binIndex = np.arange(0, max(x)+binsize, binsize)  \n",
    "\n",
    "# Set the overall chart style.\n",
    "sns.set_style(\"darkgrid\", {'xtick.major.size': 3.0})\n",
    "plt.figure(figsize=(10,5))\n",
    "\n",
    "# Plot and label the data.\n",
    "plt.hist(x, color=['orange'], bins=binIndex, label='', alpha=0.5)\n",
    "plt.title('Histogram: Ticket Price [1st Class] \\n', fontsize=14)\n",
    "plt.xlabel('\\n USD', fontsize=13, alpha=0.75)\n",
    "plt.xticks(binIndex)\n",
    "plt.ylabel('Passengers \\n', fontsize=13, alpha=0.75)\n",
    "#plt.legend(fontsize=12)\n",
    "\n",
    "# Set the tick size on x-axis for visibility.\n",
    "plt.tick_params(labelsize=10)"
   ]
  },
  {
   "cell_type": "markdown",
   "metadata": {},
   "source": [
    "**Observation(s):** The histogram illustrates a broad spread of price levels for 1st class tickets.\n",
    "\n",
    "Was there a trend on survivability amongst 1st class passengers with different price levels?\n",
    "\n",
    "#### 3.4.2  Correlation between Survivors and 1st Class Ticket Fares\n",
    "The ambition here is to quickly explore the dataset and see if a trend could be observed. A detailed statistical study if warranted, could be taken up as a separate project. \n",
    "\n",
    "The approach taken to investigate a trend is as follows:\n",
    "1. Carve up the price to different ranges of in steps of 0.25SD.\n",
    "2. Limit the binning up to statistical definition for outlier of 1.5 x IQR.\n",
    "3. Illustrate the survivor versus passenger counts within each bin."
   ]
  },
  {
   "cell_type": "code",
   "execution_count": 29,
   "metadata": {},
   "outputs": [
    {
     "name": "stdout",
     "output_type": "stream",
     "text": [
      "Lower bin value = -62.940125; Upper bin value = 187.364075\n"
     ]
    }
   ],
   "source": [
    "### Categorize fares & count number of survivors in 1st class.\n",
    "# STEP 1: Built a series with data on survivors, non-survivors and the fares paid.\n",
    "sur_fares, xsur_fares = split_by_survived(class1_df, 'Fare')\n",
    "\n",
    "# STEP 2: Establish IQR and standard deviation for data 1st Class fares \n",
    "fares_IQR = class1_df['Fare'].quantile(q=0.75) - class1_df['Fare'].quantile(q=0.25)\n",
    "fares_SD = class1_df['Fare'].std(ddof=0)  # Treating dataset as population instead of sample: ddof=0.\n",
    "\n",
    "# STEP 3: Establish outliers i.e. Q1 - 1.5(IQR) and Q3 + 1.5(IQR) for lower and upper bins\n",
    "lowerbin = class1_df['Fare'].quantile(q=0.25) - 1.5*fares_IQR\n",
    "upperbin = class1_df['Fare'].quantile(q=0.75) + 1.5*fares_IQR\n",
    "print \"Lower bin value = {}; Upper bin value = {}\".format(lowerbin, upperbin)\n",
    "\n",
    "# STEP 4: Create the bin, bin the data and build histogram\n",
    "binIndex = []\n",
    "\n",
    "x = 0  # Bin indexes to start from zero instead of lowerbin which is a -ve value.\n",
    "while x < upperbin:  \n",
    "    binIndex.append(x)\n",
    "    x += 0.25*fares_SD\n",
    "binIndex.append(upperbin)  # Appends the upperbin value as the final bin."
   ]
  },
  {
   "cell_type": "code",
   "execution_count": 30,
   "metadata": {},
   "outputs": [
    {
     "data": {
      "image/png": "[encoded data removed]",
      "text/plain": [
       "<matplotlib.figure.Figure at 0xc5839b0>"
      ]
     },
     "metadata": {},
     "output_type": "display_data"
    }
   ],
   "source": [
    "### Plot the histogram.\n",
    "# Set the overall chart style.\n",
    "sns.set_style(\"darkgrid\", {'xtick.major.size': 3.0})\n",
    "plt.figure(figsize=(10,5))\n",
    "\n",
    "# Plot and label the data.\n",
    "plt.hist([sur_fares, xsur_fares], bins=binIndex, \\\n",
    "         label = ['1st Class Survivors', '1st Class Non-survivors'], color=['orange','blue'], alpha=0.5, stacked=1)\n",
    "plt.title('Histogram: 1st Class Fares\\n', fontsize=14)\n",
    "plt.xlabel('\\n1st Class Ticket Fares (USD)', fontsize=13, alpha=0.75)\n",
    "plt.ylabel('Headcount\\n', fontsize=13, alpha=0.75)\n",
    "plt.legend(fontsize=12)\n",
    "\n",
    "# Set the tick size on x-axis for visibility.\n",
    "plt.tick_params(labelsize=13)"
   ]
  },
  {
   "cell_type": "markdown",
   "metadata": {},
   "source": [
    "**Observation(s):** Rate of survival appears higher with increasing fares among 1st class tickets.\n",
    "\n",
    "*Follow-on Question:* What is the % of survivors among the different fare bins? "
   ]
  },
  {
   "cell_type": "code",
   "execution_count": 31,
   "metadata": {
    "collapsed": true
   },
   "outputs": [],
   "source": [
    "# Group Class 1 passenger's and survivor's fares into bins\n",
    "binned_fares = pd.cut(class1_df['Fare'], bins=binIndex, labels=binIndex[1:])\n",
    "binned_sur_fares = pd.cut(sur_fares, bins=binIndex, labels=binIndex[1:])\n",
    "\n",
    "# Count the occurance within each bin\n",
    "ratio = binned_sur_fares.value_counts()/binned_fares.value_counts()\n",
    "ratio = ratio.sort_index().reset_index()"
   ]
  },
  {
   "cell_type": "code",
   "execution_count": 32,
   "metadata": {},
   "outputs": [
    {
     "data": {
      "text/html": [
       "<div>\n",
       "<style>\n",
       "    .dataframe thead tr:only-child th {\n",
       "        text-align: right;\n",
       "    }\n",
       "\n",
       "    .dataframe thead th {\n",
       "        text-align: left;\n",
       "    }\n",
       "\n",
       "    .dataframe tbody tr th {\n",
       "        vertical-align: top;\n",
       "    }\n",
       "</style>\n",
       "<table border=\"1\" class=\"dataframe\">\n",
       "  <thead>\n",
       "    <tr style=\"text-align: right;\">\n",
       "      <th></th>\n",
       "      <th>index</th>\n",
       "      <th>Fare</th>\n",
       "    </tr>\n",
       "  </thead>\n",
       "  <tbody>\n",
       "    <tr>\n",
       "      <th>0</th>\n",
       "      <td>19.549682</td>\n",
       "      <td>0.000000</td>\n",
       "    </tr>\n",
       "    <tr>\n",
       "      <th>1</th>\n",
       "      <td>39.099363</td>\n",
       "      <td>0.491803</td>\n",
       "    </tr>\n",
       "    <tr>\n",
       "      <th>2</th>\n",
       "      <td>58.649045</td>\n",
       "      <td>0.625000</td>\n",
       "    </tr>\n",
       "    <tr>\n",
       "      <th>3</th>\n",
       "      <td>78.198726</td>\n",
       "      <td>0.681818</td>\n",
       "    </tr>\n",
       "    <tr>\n",
       "      <th>4</th>\n",
       "      <td>97.748408</td>\n",
       "      <td>0.794118</td>\n",
       "    </tr>\n",
       "    <tr>\n",
       "      <th>5</th>\n",
       "      <td>117.298089</td>\n",
       "      <td>0.636364</td>\n",
       "    </tr>\n",
       "    <tr>\n",
       "      <th>6</th>\n",
       "      <td>136.847771</td>\n",
       "      <td>0.909091</td>\n",
       "    </tr>\n",
       "    <tr>\n",
       "      <th>7</th>\n",
       "      <td>156.397452</td>\n",
       "      <td>0.666667</td>\n",
       "    </tr>\n",
       "    <tr>\n",
       "      <th>8</th>\n",
       "      <td>175.947134</td>\n",
       "      <td>1.000000</td>\n",
       "    </tr>\n",
       "    <tr>\n",
       "      <th>9</th>\n",
       "      <td>187.364075</td>\n",
       "      <td>NaN</td>\n",
       "    </tr>\n",
       "  </tbody>\n",
       "</table>\n",
       "</div>"
      ],
      "text/plain": [
       "        index      Fare\n",
       "0   19.549682  0.000000\n",
       "1   39.099363  0.491803\n",
       "2   58.649045  0.625000\n",
       "3   78.198726  0.681818\n",
       "4   97.748408  0.794118\n",
       "5  117.298089  0.636364\n",
       "6  136.847771  0.909091\n",
       "7  156.397452  0.666667\n",
       "8  175.947134  1.000000\n",
       "9  187.364075       NaN"
      ]
     },
     "execution_count": 32,
     "metadata": {},
     "output_type": "execute_result"
    }
   ],
   "source": [
    "ratio"
   ]
  },
  {
   "cell_type": "code",
   "execution_count": 33,
   "metadata": {},
   "outputs": [
    {
     "name": "stdout",
     "output_type": "stream",
     "text": [
      "['0 - 19.55', '19.55 - 39.10', '39.10 - 58.65', '58.65 - 78.20', '78.20 - 97.75', '97.75 - 117.30', '117.30 - 136.85', '136.85 - 156.40', '156.40 - 175.95', '175.95 - 187.36']\n"
     ]
    }
   ],
   "source": [
    "### Plot the bar chart to illustrate.\n",
    "# Prepare data for plotting.\n",
    "x = ratio.index\n",
    "y = ratio['Fare']\n",
    "\n",
    "# x-axis Ticker Labels: Get values for the x tickers label e.g. 'x0-x1'\n",
    "from_x = ['%.2f' % elem for elem in ratio['index'].shift(1)]\n",
    "from_x[0] = '0'  # Reassigns 'nan' value from shift() operation with '0'\n",
    "to_x = ['%.2f' % elem for elem in ratio['index']]\n",
    "\n",
    "# x-axis Ticker Labels: Loop through to create wanted format and store in list.\n",
    "xticklabels = []\n",
    "for foo in range(len(from_x)):\n",
    "    label = from_x[foo] + \" - \" + to_x[foo]\n",
    "    xticklabels.append(label)\n",
    "print xticklabels"
   ]
  },
  {
   "cell_type": "code",
   "execution_count": 34,
   "metadata": {},
   "outputs": [
    {
     "data": {
      "text/plain": [
       "[<matplotlib.text.Text at 0xd599940>,\n",
       " <matplotlib.text.Text at 0xd5a3588>,\n",
       " <matplotlib.text.Text at 0xd5dc0f0>,\n",
       " <matplotlib.text.Text at 0xd5dc748>,\n",
       " <matplotlib.text.Text at 0xd5dcda0>,\n",
       " <matplotlib.text.Text at 0xd5ea438>,\n",
       " <matplotlib.text.Text at 0xd5eaa90>,\n",
       " <matplotlib.text.Text at 0xd5f6128>,\n",
       " <matplotlib.text.Text at 0xd5f6780>,\n",
       " <matplotlib.text.Text at 0xd5f6dd8>]"
      ]
     },
     "execution_count": 34,
     "metadata": {},
     "output_type": "execute_result"
    },
    {
     "data": {
      "image/png": "[encoded data removed]",
      "text/plain": [
       "<matplotlib.figure.Figure at 0xd22c5c0>"
      ]
     },
     "metadata": {},
     "output_type": "display_data"
    }
   ],
   "source": [
    "# Set the grid.\n",
    "sns.set_style(\"darkgrid\", {'xtick.major.size': 3.0})\n",
    "\n",
    "# Create the figure.\n",
    "f = plt.figure(figsize=(7,5))\n",
    "f.suptitle('Survival Ratio per 1st Class Ticket Price', fontsize=16.0)\n",
    "\n",
    "# Plot the bar chart of survivors' ratio within each Class.\n",
    "#ax1 = plt.subplot(gs[0, 0])  # Place the 1st plot on grid\n",
    "ax1 = plt.subplot()\n",
    "ax1.bar(x, y, color='orange', alpha=0.5, width=0.5)\n",
    "ax1.set_xlabel('\\n 1st Class Ticket Price (Grouped)', fontsize=13, alpha=0.75)\n",
    "ax1.set_ylabel('Survivors to Passengers Ratio \\n', fontsize=13, alpha=0.75)\n",
    "ax1.set_xticks(x)\n",
    "ax1.set_xticklabels(xticklabels, rotation=70)"
   ]
  },
  {
   "cell_type": "markdown",
   "metadata": {},
   "source": [
    "**Observation(s):** A pattern exists to suggest that higher fares for 1st Class tickets increases survivability.\n",
    "\n",
    "### Conclusion: Survivability based on Pclass\n",
    "There is notable trend that survival rate for passengers who boarded with 1st Class tickets was higher compared to passengers of 2nd Class and 3rd Class tickets. \n",
    "\n",
    "Within 1st Class, there was a broad spread of fare prices. When compared against survivors within this class, there appears a trend to suggest that survival rate among 1st Class passengers increases with ticket price. Analysis to explore this trend could be performed in a separate project.\n",
    "\n",
    "<a id='age'></a>\n",
    "### 3.5 Survivability: Age"
   ]
  },
  {
   "cell_type": "code",
   "execution_count": 35,
   "metadata": {},
   "outputs": [
    {
     "data": {
      "text/plain": [
       "count    714.000000\n",
       "mean      29.699118\n",
       "std       14.526497\n",
       "min        0.420000\n",
       "25%       20.125000\n",
       "50%       28.000000\n",
       "75%       38.000000\n",
       "max       80.000000\n",
       "Name: Age, dtype: float64"
      ]
     },
     "execution_count": 35,
     "metadata": {},
     "output_type": "execute_result"
    }
   ],
   "source": [
    "# Stats on age and survivors.\n",
    "titanic_a['Age'].describe()  #DataFrame 'titanic_a' is the cleaned of missing 'Age' entries."
   ]
  },
  {
   "cell_type": "code",
   "execution_count": 36,
   "metadata": {},
   "outputs": [
    {
     "data": {
      "text/html": [
       "<div>\n",
       "<style>\n",
       "    .dataframe thead tr:only-child th {\n",
       "        text-align: right;\n",
       "    }\n",
       "\n",
       "    .dataframe thead th {\n",
       "        text-align: left;\n",
       "    }\n",
       "\n",
       "    .dataframe tbody tr th {\n",
       "        vertical-align: top;\n",
       "    }\n",
       "</style>\n",
       "<table border=\"1\" class=\"dataframe\">\n",
       "  <thead>\n",
       "    <tr style=\"text-align: right;\">\n",
       "      <th></th>\n",
       "      <th>count</th>\n",
       "      <th>mean</th>\n",
       "      <th>std</th>\n",
       "      <th>min</th>\n",
       "      <th>25%</th>\n",
       "      <th>50%</th>\n",
       "      <th>75%</th>\n",
       "      <th>max</th>\n",
       "    </tr>\n",
       "    <tr>\n",
       "      <th>Survived</th>\n",
       "      <th></th>\n",
       "      <th></th>\n",
       "      <th></th>\n",
       "      <th></th>\n",
       "      <th></th>\n",
       "      <th></th>\n",
       "      <th></th>\n",
       "      <th></th>\n",
       "    </tr>\n",
       "  </thead>\n",
       "  <tbody>\n",
       "    <tr>\n",
       "      <th>0</th>\n",
       "      <td>424.0</td>\n",
       "      <td>30.626179</td>\n",
       "      <td>14.172110</td>\n",
       "      <td>1.00</td>\n",
       "      <td>21.0</td>\n",
       "      <td>28.0</td>\n",
       "      <td>39.0</td>\n",
       "      <td>74.0</td>\n",
       "    </tr>\n",
       "    <tr>\n",
       "      <th>1</th>\n",
       "      <td>290.0</td>\n",
       "      <td>28.343690</td>\n",
       "      <td>14.950952</td>\n",
       "      <td>0.42</td>\n",
       "      <td>19.0</td>\n",
       "      <td>28.0</td>\n",
       "      <td>36.0</td>\n",
       "      <td>80.0</td>\n",
       "    </tr>\n",
       "  </tbody>\n",
       "</table>\n",
       "</div>"
      ],
      "text/plain": [
       "          count       mean        std   min   25%   50%   75%   max\n",
       "Survived                                                           \n",
       "0         424.0  30.626179  14.172110  1.00  21.0  28.0  39.0  74.0\n",
       "1         290.0  28.343690  14.950952  0.42  19.0  28.0  36.0  80.0"
      ]
     },
     "execution_count": 36,
     "metadata": {},
     "output_type": "execute_result"
    }
   ],
   "source": [
    "titanic_a.groupby('Survived')['Age'].describe()"
   ]
  },
  {
   "cell_type": "code",
   "execution_count": 62,
   "metadata": {},
   "outputs": [
    {
     "data": {
      "text/plain": [
       "0.4061624649859944"
      ]
     },
     "execution_count": 62,
     "metadata": {},
     "output_type": "execute_result"
    }
   ],
   "source": [
    "290/(290+424.0)"
   ]
  },
  {
   "cell_type": "markdown",
   "metadata": {},
   "source": [
    "**Observation(s):** \n",
    "1. Mean age of passengers is 29.7 years.\n",
    "2. On the other hand, mean age of survivors is 28.3 years - indicating that survivors are on average younger.\n",
    "3. 40.6% of passengers survived based on a dataset adjusted for the missing *Age* entries.\n",
    "\n",
    "How does this look like across the different age groups?"
   ]
  },
  {
   "cell_type": "code",
   "execution_count": 37,
   "metadata": {
    "collapsed": true
   },
   "outputs": [],
   "source": [
    "### Plot a histogram to see how survivors differ across age groups.\n",
    "# Split DataFrame into columns containing ages of survivors and non-survivors.\n",
    "s_age, xs_age = split_by_survived(titanic_a, 'Age')"
   ]
  },
  {
   "cell_type": "code",
   "execution_count": 38,
   "metadata": {},
   "outputs": [
    {
     "data": {
      "image/png": "[encoded data removed]",
      "text/plain": [
       "<matplotlib.figure.Figure at 0xd58e0b8>"
      ]
     },
     "metadata": {},
     "output_type": "display_data"
    }
   ],
   "source": [
    "# Prepare charting data for age of survivors, non-survivors. \n",
    "s1 = s_age\n",
    "s2 = xs_age\n",
    "binsize = 3  # Set bin size at 3 years per bin.\n",
    "binIndex = np.arange(0, max(titanic_a['Age'])+binsize, binsize)  \n",
    "\n",
    "# Set the overall chart style.\n",
    "sns.set_style(\"darkgrid\", {'xtick.major.size': 3.0})\n",
    "plt.figure(figsize=(10,5))\n",
    "\n",
    "# Plot and label the data.\n",
    "plt.hist([s1, s2], color=['orange', 'blue'], bins=binIndex, \\\n",
    "         label=['Survivors (Bin size: 3 years)','Non-survivors'], alpha=0.5, stacked=1)\n",
    "plt.title('Histogram: Passengers\\' Age Group \\n', fontsize=14)\n",
    "plt.xlabel('\\n Survivors\\' Age', fontsize=13, alpha=0.75)\n",
    "plt.xticks(binIndex)\n",
    "plt.ylabel('Headcount \\n', fontsize=13, alpha=0.75)\n",
    "plt.legend(fontsize=12)\n",
    "\n",
    "\n",
    "# Set the tick size on x-axis for visibility.\n",
    "plt.tick_params(labelsize=10)"
   ]
  },
  {
   "cell_type": "markdown",
   "metadata": {},
   "source": [
    "**Observation(s):**\n",
    "1. The dataset contains passenger manifest with average age of 29.7 years. \n",
    "2. Survivors tended to be younger at average of 28.3 years, while non-survivors tended to be older at average of 30.6 years.\n",
    "3. Observed from chart:\n",
    "  * Survival rate from 0 - 18 years appears higher (with at least 50% survival rate)\n",
    "  * Exception appears in age group 9 - 12 years, where survival rate is low at approximately 33%.\n",
    "  * Survival rate from 18 years is less than 50% with exception of age group 48 - 51 having approximate rate of 50%."
   ]
  },
  {
   "cell_type": "code",
   "execution_count": 39,
   "metadata": {
    "collapsed": true
   },
   "outputs": [],
   "source": [
    "### Examining children survival vs adult survival\n",
    "# Group child passengers (i.e. passengers of age 0 - 12 inclusive)\n",
    "child_df = titanic_a[titanic_a['Age'] <= 12.0]\n",
    "adult_df = titanic_a[titanic_a['Age'] > 12.0]"
   ]
  },
  {
   "cell_type": "code",
   "execution_count": 40,
   "metadata": {},
   "outputs": [
    {
     "data": {
      "text/html": [
       "<div>\n",
       "<style>\n",
       "    .dataframe thead tr:only-child th {\n",
       "        text-align: right;\n",
       "    }\n",
       "\n",
       "    .dataframe thead th {\n",
       "        text-align: left;\n",
       "    }\n",
       "\n",
       "    .dataframe tbody tr th {\n",
       "        vertical-align: top;\n",
       "    }\n",
       "</style>\n",
       "<table border=\"1\" class=\"dataframe\">\n",
       "  <thead>\n",
       "    <tr style=\"text-align: right;\">\n",
       "      <th></th>\n",
       "      <th>count</th>\n",
       "      <th>mean</th>\n",
       "      <th>std</th>\n",
       "      <th>min</th>\n",
       "      <th>25%</th>\n",
       "      <th>50%</th>\n",
       "      <th>75%</th>\n",
       "      <th>max</th>\n",
       "    </tr>\n",
       "    <tr>\n",
       "      <th>Survived</th>\n",
       "      <th></th>\n",
       "      <th></th>\n",
       "      <th></th>\n",
       "      <th></th>\n",
       "      <th></th>\n",
       "      <th></th>\n",
       "      <th></th>\n",
       "      <th></th>\n",
       "    </tr>\n",
       "  </thead>\n",
       "  <tbody>\n",
       "    <tr>\n",
       "      <th>0</th>\n",
       "      <td>29.0</td>\n",
       "      <td>6.00000</td>\n",
       "      <td>3.555680</td>\n",
       "      <td>1.00</td>\n",
       "      <td>2.0</td>\n",
       "      <td>7.0</td>\n",
       "      <td>9.0</td>\n",
       "      <td>11.0</td>\n",
       "    </tr>\n",
       "    <tr>\n",
       "      <th>1</th>\n",
       "      <td>40.0</td>\n",
       "      <td>3.87925</td>\n",
       "      <td>3.004404</td>\n",
       "      <td>0.42</td>\n",
       "      <td>1.0</td>\n",
       "      <td>3.5</td>\n",
       "      <td>5.0</td>\n",
       "      <td>12.0</td>\n",
       "    </tr>\n",
       "  </tbody>\n",
       "</table>\n",
       "</div>"
      ],
      "text/plain": [
       "          count     mean       std   min  25%  50%  75%   max\n",
       "Survived                                                     \n",
       "0          29.0  6.00000  3.555680  1.00  2.0  7.0  9.0  11.0\n",
       "1          40.0  3.87925  3.004404  0.42  1.0  3.5  5.0  12.0"
      ]
     },
     "execution_count": 40,
     "metadata": {},
     "output_type": "execute_result"
    }
   ],
   "source": [
    "# Stats for child survivors\n",
    "child_df.groupby('Survived')['Age'].describe()"
   ]
  },
  {
   "cell_type": "code",
   "execution_count": 41,
   "metadata": {},
   "outputs": [
    {
     "data": {
      "text/html": [
       "<div>\n",
       "<style>\n",
       "    .dataframe thead tr:only-child th {\n",
       "        text-align: right;\n",
       "    }\n",
       "\n",
       "    .dataframe thead th {\n",
       "        text-align: left;\n",
       "    }\n",
       "\n",
       "    .dataframe tbody tr th {\n",
       "        vertical-align: top;\n",
       "    }\n",
       "</style>\n",
       "<table border=\"1\" class=\"dataframe\">\n",
       "  <thead>\n",
       "    <tr style=\"text-align: right;\">\n",
       "      <th></th>\n",
       "      <th>count</th>\n",
       "      <th>mean</th>\n",
       "      <th>std</th>\n",
       "      <th>min</th>\n",
       "      <th>25%</th>\n",
       "      <th>50%</th>\n",
       "      <th>75%</th>\n",
       "      <th>max</th>\n",
       "    </tr>\n",
       "    <tr>\n",
       "      <th>Survived</th>\n",
       "      <th></th>\n",
       "      <th></th>\n",
       "      <th></th>\n",
       "      <th></th>\n",
       "      <th></th>\n",
       "      <th></th>\n",
       "      <th></th>\n",
       "      <th></th>\n",
       "    </tr>\n",
       "  </thead>\n",
       "  <tbody>\n",
       "    <tr>\n",
       "      <th>0</th>\n",
       "      <td>395.0</td>\n",
       "      <td>32.434177</td>\n",
       "      <td>12.915853</td>\n",
       "      <td>14.0</td>\n",
       "      <td>22.00</td>\n",
       "      <td>29.0</td>\n",
       "      <td>40.0</td>\n",
       "      <td>74.0</td>\n",
       "    </tr>\n",
       "    <tr>\n",
       "      <th>1</th>\n",
       "      <td>250.0</td>\n",
       "      <td>32.258000</td>\n",
       "      <td>12.103571</td>\n",
       "      <td>13.0</td>\n",
       "      <td>23.25</td>\n",
       "      <td>30.0</td>\n",
       "      <td>39.0</td>\n",
       "      <td>80.0</td>\n",
       "    </tr>\n",
       "  </tbody>\n",
       "</table>\n",
       "</div>"
      ],
      "text/plain": [
       "          count       mean        std   min    25%   50%   75%   max\n",
       "Survived                                                            \n",
       "0         395.0  32.434177  12.915853  14.0  22.00  29.0  40.0  74.0\n",
       "1         250.0  32.258000  12.103571  13.0  23.25  30.0  39.0  80.0"
      ]
     },
     "execution_count": 41,
     "metadata": {},
     "output_type": "execute_result"
    }
   ],
   "source": [
    "# Stats for adult survivors\n",
    "adult_df.groupby('Survived')['Age'].describe()"
   ]
  },
  {
   "cell_type": "code",
   "execution_count": 42,
   "metadata": {},
   "outputs": [
    {
     "data": {
      "text/plain": [
       "0.38759689922480622"
      ]
     },
     "execution_count": 42,
     "metadata": {},
     "output_type": "execute_result"
    }
   ],
   "source": [
    "adult_df.groupby('Survived')['Age'].describe().iloc[1,0]/adult_df['Age'].count()"
   ]
  },
  {
   "cell_type": "code",
   "execution_count": 43,
   "metadata": {},
   "outputs": [
    {
     "data": {
      "text/plain": [
       "0.57971014492753625"
      ]
     },
     "execution_count": 43,
     "metadata": {},
     "output_type": "execute_result"
    }
   ],
   "source": [
    "child_df.groupby('Survived')['Age'].describe().iloc[1,0]/child_df['Age'].count()"
   ]
  },
  {
   "cell_type": "markdown",
   "metadata": {},
   "source": [
    "**Observation(s):** 58% of child passengers survived compared to 38.8% survival in adults passengers.\n",
    "\n",
    "### Conclusion: Survivability based on Age\n",
    "1. The dataset contains passenger manifest with average age of 29.7 years. \n",
    "2. Survivors tended to be younger at average of 28.3 years, while non-survivors tended to be older at average of 30.6 years.\n",
    "3. Chart \"Histogram: Passengers' Age Group\" shows a double-peaked normal distribution pattern.\n",
    "4. New datasets are created to represent children and adult passengers, where children are up to 12 years old.\n",
    "5. Average age of adult passengers is 32.4 years while child passengers average age is 4.8 years.\n",
    "  * Average age of child survivors is 3.9\n",
    "  * Average age of adult survivors is 32.3\n",
    "6. Child passengers had a higher survival rate of 58% compared to adult passengers with 38.8%.\n",
    "\n",
    "<a id='sex'></a>\n",
    "### 3.6 Survivability: Gender"
   ]
  },
  {
   "cell_type": "code",
   "execution_count": 44,
   "metadata": {},
   "outputs": [
    {
     "data": {
      "text/html": [
       "<div>\n",
       "<style>\n",
       "    .dataframe thead tr:only-child th {\n",
       "        text-align: right;\n",
       "    }\n",
       "\n",
       "    .dataframe thead th {\n",
       "        text-align: left;\n",
       "    }\n",
       "\n",
       "    .dataframe tbody tr th {\n",
       "        vertical-align: top;\n",
       "    }\n",
       "</style>\n",
       "<table border=\"1\" class=\"dataframe\">\n",
       "  <thead>\n",
       "    <tr style=\"text-align: right;\">\n",
       "      <th></th>\n",
       "      <th>count</th>\n",
       "      <th>mean</th>\n",
       "      <th>std</th>\n",
       "      <th>min</th>\n",
       "      <th>25%</th>\n",
       "      <th>50%</th>\n",
       "      <th>75%</th>\n",
       "      <th>max</th>\n",
       "    </tr>\n",
       "    <tr>\n",
       "      <th>Sex</th>\n",
       "      <th></th>\n",
       "      <th></th>\n",
       "      <th></th>\n",
       "      <th></th>\n",
       "      <th></th>\n",
       "      <th></th>\n",
       "      <th></th>\n",
       "      <th></th>\n",
       "    </tr>\n",
       "  </thead>\n",
       "  <tbody>\n",
       "    <tr>\n",
       "      <th>female</th>\n",
       "      <td>314.0</td>\n",
       "      <td>0.742038</td>\n",
       "      <td>0.438211</td>\n",
       "      <td>0.0</td>\n",
       "      <td>0.0</td>\n",
       "      <td>1.0</td>\n",
       "      <td>1.0</td>\n",
       "      <td>1.0</td>\n",
       "    </tr>\n",
       "    <tr>\n",
       "      <th>male</th>\n",
       "      <td>577.0</td>\n",
       "      <td>0.188908</td>\n",
       "      <td>0.391775</td>\n",
       "      <td>0.0</td>\n",
       "      <td>0.0</td>\n",
       "      <td>0.0</td>\n",
       "      <td>0.0</td>\n",
       "      <td>1.0</td>\n",
       "    </tr>\n",
       "  </tbody>\n",
       "</table>\n",
       "</div>"
      ],
      "text/plain": [
       "        count      mean       std  min  25%  50%  75%  max\n",
       "Sex                                                       \n",
       "female  314.0  0.742038  0.438211  0.0  0.0  1.0  1.0  1.0\n",
       "male    577.0  0.188908  0.391775  0.0  0.0  0.0  0.0  1.0"
      ]
     },
     "execution_count": 44,
     "metadata": {},
     "output_type": "execute_result"
    }
   ],
   "source": [
    "titanic_df.groupby(['Sex']).describe()['Survived']"
   ]
  },
  {
   "cell_type": "markdown",
   "metadata": {},
   "source": [
    "**Observation(s):** Female passengers had higher survival rate at 74.2%, while male passengers had a survival rate of 18.9%.\n",
    "\n",
    "How does this look when taking into account the age groups of each gender?"
   ]
  },
  {
   "cell_type": "code",
   "execution_count": 45,
   "metadata": {
    "collapsed": true
   },
   "outputs": [],
   "source": [
    "### Build dataframes to contain data for histograms of male and female survivors across age.\n",
    "# Dataframes of boy and girl survivors.\n",
    "child_gender = split_by_survived(child_df, ['Age', 'Sex'])\n",
    "sur = child_gender[0]\n",
    "boy_sur_df = sur[sur['Sex']=='male']\n",
    "girl_sur_df = sur[sur['Sex']=='female']\n",
    "\n",
    "# Dataframes of man and woman suvivors\n",
    "adult_gender = split_by_survived(adult_df, ['Age', 'Sex'])\n",
    "sur = adult_gender[0]\n",
    "man_sur_df = sur[sur['Sex']=='male']\n",
    "woman_sur_df = sur[sur['Sex']=='female']"
   ]
  },
  {
   "cell_type": "code",
   "execution_count": 46,
   "metadata": {},
   "outputs": [
    {
     "data": {
      "image/png": "[encoded data removed]",
      "text/plain": [
       "<matplotlib.figure.Figure at 0xd0b0898>"
      ]
     },
     "metadata": {},
     "output_type": "display_data"
    }
   ],
   "source": [
    "### Plot bar chart of survivors ratio within each Pclass & line chart normalized to 1st Class survivors' ratio.\n",
    "# Create plot data.\n",
    "boy = boy_sur_df['Age']\n",
    "girl = girl_sur_df['Age']\n",
    "man = man_sur_df['Age']\n",
    "woman = woman_sur_df['Age']\n",
    "child_binsize = 2  # Child age binned in steps of 2 years.\n",
    "adult_binsize = 5  # Adult age binned in steps of 5 years.\n",
    "child_binIndex = np.arange(0, max(child_df['Age'])+child_binsize, child_binsize)  \n",
    "adult_binIndex = np.arange(0, max(adult_df['Age'])+adult_binsize, adult_binsize)  \n",
    "\n",
    "# Set the overall chart style.\n",
    "sns.set_style(\"darkgrid\", {'xtick.major.size': 3.0})\n",
    "\n",
    "# Create the figure.\n",
    "f = plt.figure(figsize=(15, 8))\n",
    "f.suptitle('Survivors\\' According to Age', fontsize=16.0)\n",
    "\n",
    "# Create the gridspec.\n",
    "gs = gridspec.GridSpec(3,2, height_ratios=[1, 0.05 ,1], width_ratios=[1, 0.3])\n",
    "# 3 rows created instead of 2. 1st and 3rd rows for charts, while 2nd row as spacer between charts.\n",
    "\n",
    "# Plot for woman\n",
    "ax00 = plt.subplot(gs[0, 0])  # Place the 1st plot on grid\n",
    "ax00.hist(woman, bins=adult_binIndex, color='red', alpha=0.5)\n",
    "ax00.set_title('Women', fontsize=13, alpha=0.75)\n",
    "#ax00.set_ylim([0,3.0])\n",
    "#ax00.set_xlabel('\\n Age', fontsize=13, alpha=0.75)\n",
    "ax00.set_ylabel('Headcount', fontsize=13, alpha=1)\n",
    "ax00.set_xticks(adult_binIndex)\n",
    "\n",
    "# Plot for man\n",
    "ax10 = plt.subplot(gs[2, 0], sharex=ax00, sharey=ax00)\n",
    "ax10.hist(man, bins=adult_binIndex, color='blue', alpha=0.5)\n",
    "ax10.set_title('Men', fontsize=13, alpha=0.75)\n",
    "#ax10.set_ylim([0,3.0])\n",
    "ax10.set_xlabel('\\n Age', fontsize=13, alpha=1)\n",
    "ax10.set_ylabel('Headcount', fontsize=13, alpha=1)\n",
    "\n",
    "# Plot for girl\n",
    "ax01 = plt.subplot(gs[0, 1])\n",
    "ax01.hist(girl, bins=child_binIndex, color='red', alpha=0.5)\n",
    "ax01.set_title('Girls', fontsize=13, alpha=0.75)\n",
    "#ax01.set_ylim([0,3.0])\n",
    "#ax01.set_xlabel('\\n Age', fontsize=13, alpha=0.75)\n",
    "#ax01.set_ylabel('Headcount', fontsize=13, alpha=0.75)\n",
    "ax01.set_xticks(child_binIndex)\n",
    "\n",
    "# Plot for boy\n",
    "ax11 = plt.subplot(gs[2, 1], sharey=ax01, sharex=ax01)\n",
    "ax11.hist(boy, bins=child_binIndex, color='blue', alpha=0.5)\n",
    "ax11.set_title('Boys', fontsize=13, alpha=0.75)\n",
    "#ax11.set_ylim([0,3.0])\n",
    "ax11.set_xlabel('\\n Age', fontsize=13, alpha=1)\n",
    "#ax11.set_ylabel('Headcount', fontsize=13, alpha=0.75)\n",
    "#ax11.set_xticks(child_binIndex)\n",
    "\n",
    "# Set the tick size on x-axis for visibility.\n",
    "ax00.tick_params(labelsize=10)\n",
    "ax01.tick_params(labelsize=10)\n",
    "ax10.tick_params(labelsize=10)\n",
    "ax11.tick_params(labelsize=10)\n",
    "\n",
    "# Gridspec code inspired by http://www.sc.eso.org/~bdias/pycoffee/codes/20160407/gridspec_demo.html"
   ]
  },
  {
   "cell_type": "markdown",
   "metadata": {},
   "source": [
    "**Observation(s):** \n",
    "1. The distribution of survivors for women and men across the agess are similar. \n",
    "2. However, there is a clear distinction between women and men survivor count, where men survivors were markedly fewer than women. \n",
    "3. When it comes to children, the charts indicate that boys and girls survivors are similar in count.\n"
   ]
  },
  {
   "cell_type": "code",
   "execution_count": 47,
   "metadata": {},
   "outputs": [
    {
     "name": "stdout",
     "output_type": "stream",
     "text": [
      "Man survivors = 72\n",
      "Woman survivors = 178\n"
     ]
    }
   ],
   "source": [
    "# Adult survivors according to gender.\n",
    "print \"Man survivors =\", man_sur_df['Age'].count()\n",
    "print \"Woman survivors =\", woman_sur_df['Age'].count()"
   ]
  },
  {
   "cell_type": "code",
   "execution_count": 48,
   "metadata": {},
   "outputs": [
    {
     "data": {
      "text/plain": [
       "Sex\n",
       "female     51\n",
       "male      344\n",
       "Name: Age, dtype: int64"
      ]
     },
     "execution_count": 48,
     "metadata": {},
     "output_type": "execute_result"
    }
   ],
   "source": [
    "# Adult non-survivors according to gender.\n",
    "adult_xsur_cnt = adult_gender[1].groupby('Sex')['Age'].count()\n",
    "adult_xsur_cnt"
   ]
  },
  {
   "cell_type": "code",
   "execution_count": 49,
   "metadata": {},
   "outputs": [
    {
     "name": "stdout",
     "output_type": "stream",
     "text": [
      "Men survivors:non-survivors ratio =  0.209302325581\n",
      "Women survivors:non-survivors ratio =  3.49019607843\n"
     ]
    }
   ],
   "source": [
    "print \"Men survivors:non-survivors ratio = \", man_sur_df['Age'].count() / adult_xsur_cnt['male'].astype(float)\n",
    "print \"Women survivors:non-survivors ratio = \", woman_sur_df['Age'].count() / adult_xsur_cnt['female'].astype(float)"
   ]
  },
  {
   "cell_type": "markdown",
   "metadata": {},
   "source": [
    "**Observation(s):** For every 10 men who did not survive, 2 men did. In contrast, for every woman that did not survive, almost 3.5 women did. Survivability of adult female was substantially higher."
   ]
  },
  {
   "cell_type": "code",
   "execution_count": 50,
   "metadata": {},
   "outputs": [
    {
     "name": "stdout",
     "output_type": "stream",
     "text": [
      "Boy survivors = 21\n",
      "Girl survivors = 19\n"
     ]
    }
   ],
   "source": [
    "# Child survivors according to gender.\n",
    "print \"Boy survivors =\", boy_sur_df['Age'].count()\n",
    "print \"Girl survivors =\", girl_sur_df['Age'].count()"
   ]
  },
  {
   "cell_type": "code",
   "execution_count": 51,
   "metadata": {},
   "outputs": [
    {
     "data": {
      "text/plain": [
       "Sex\n",
       "female    13\n",
       "male      16\n",
       "Name: Age, dtype: int64"
      ]
     },
     "execution_count": 51,
     "metadata": {},
     "output_type": "execute_result"
    }
   ],
   "source": [
    "# Child non-survivors according to gender.\n",
    "child_xsur_cnt = child_gender[1].groupby('Sex')['Age'].count()\n",
    "child_xsur_cnt"
   ]
  },
  {
   "cell_type": "code",
   "execution_count": 52,
   "metadata": {},
   "outputs": [
    {
     "name": "stdout",
     "output_type": "stream",
     "text": [
      "Boy survivors:non-survivors ratio =  1.3125\n",
      "Girl survivors:non-survivors ratio =  1.46153846154\n"
     ]
    }
   ],
   "source": [
    "print \"Boy survivors:non-survivors ratio = \", boy_sur_df['Age'].count() / child_xsur_cnt['male'].astype(float)\n",
    "print \"Girl survivors:non-survivors ratio = \", girl_sur_df['Age'].count() / child_xsur_cnt['female'].astype(float)"
   ]
  },
  {
   "cell_type": "markdown",
   "metadata": {},
   "source": [
    "**Observation(s):** \n",
    "1. The printouts supports observations from charts indicating that boys and girls survivors are similar in count.\n",
    "2. Girls edged boys on survival rate with a 1.46 survivors:non-survivors ratio (compared to 1.31 for boys).\n",
    "\n",
    "<a id='embarked'></a>\n",
    "### 3.6 Survivability: Boarding Station\n",
    "Did survivors differ between passengers who boarded from different ports?"
   ]
  },
  {
   "cell_type": "code",
   "execution_count": 53,
   "metadata": {},
   "outputs": [
    {
     "data": {
      "text/html": [
       "<div>\n",
       "<style>\n",
       "    .dataframe thead tr:only-child th {\n",
       "        text-align: right;\n",
       "    }\n",
       "\n",
       "    .dataframe thead th {\n",
       "        text-align: left;\n",
       "    }\n",
       "\n",
       "    .dataframe tbody tr th {\n",
       "        vertical-align: top;\n",
       "    }\n",
       "</style>\n",
       "<table border=\"1\" class=\"dataframe\">\n",
       "  <thead>\n",
       "    <tr style=\"text-align: right;\">\n",
       "      <th></th>\n",
       "      <th>count</th>\n",
       "      <th>mean</th>\n",
       "      <th>std</th>\n",
       "      <th>min</th>\n",
       "      <th>25%</th>\n",
       "      <th>50%</th>\n",
       "      <th>75%</th>\n",
       "      <th>max</th>\n",
       "    </tr>\n",
       "    <tr>\n",
       "      <th>Embarked</th>\n",
       "      <th></th>\n",
       "      <th></th>\n",
       "      <th></th>\n",
       "      <th></th>\n",
       "      <th></th>\n",
       "      <th></th>\n",
       "      <th></th>\n",
       "      <th></th>\n",
       "    </tr>\n",
       "  </thead>\n",
       "  <tbody>\n",
       "    <tr>\n",
       "      <th>C</th>\n",
       "      <td>168.0</td>\n",
       "      <td>0.553571</td>\n",
       "      <td>0.498608</td>\n",
       "      <td>0.0</td>\n",
       "      <td>0.0</td>\n",
       "      <td>1.0</td>\n",
       "      <td>1.0</td>\n",
       "      <td>1.0</td>\n",
       "    </tr>\n",
       "    <tr>\n",
       "      <th>Q</th>\n",
       "      <td>77.0</td>\n",
       "      <td>0.389610</td>\n",
       "      <td>0.490860</td>\n",
       "      <td>0.0</td>\n",
       "      <td>0.0</td>\n",
       "      <td>0.0</td>\n",
       "      <td>1.0</td>\n",
       "      <td>1.0</td>\n",
       "    </tr>\n",
       "    <tr>\n",
       "      <th>S</th>\n",
       "      <td>644.0</td>\n",
       "      <td>0.336957</td>\n",
       "      <td>0.473037</td>\n",
       "      <td>0.0</td>\n",
       "      <td>0.0</td>\n",
       "      <td>0.0</td>\n",
       "      <td>1.0</td>\n",
       "      <td>1.0</td>\n",
       "    </tr>\n",
       "  </tbody>\n",
       "</table>\n",
       "</div>"
      ],
      "text/plain": [
       "          count      mean       std  min  25%  50%  75%  max\n",
       "Embarked                                                    \n",
       "C         168.0  0.553571  0.498608  0.0  0.0  1.0  1.0  1.0\n",
       "Q          77.0  0.389610  0.490860  0.0  0.0  0.0  1.0  1.0\n",
       "S         644.0  0.336957  0.473037  0.0  0.0  0.0  1.0  1.0"
      ]
     },
     "execution_count": 53,
     "metadata": {},
     "output_type": "execute_result"
    }
   ],
   "source": [
    "titanic_df.groupby('Embarked')['Survived'].describe()"
   ]
  },
  {
   "cell_type": "markdown",
   "metadata": {},
   "source": [
    "**Observation(s):** \n",
    "1. It appears there is a noticeably higher proportion of survivors amongst passengers embarking from Cherbourg. \n",
    "\n",
    "*Follow-on Question(s):*\n",
    "1. Were there more female passengers from Cherbourg, contributing to the higher survivors rate?\n",
    "2. [OR] What are the count of male and female passengers boarding from each port?"
   ]
  },
  {
   "cell_type": "code",
   "execution_count": 54,
   "metadata": {},
   "outputs": [
    {
     "data": {
      "text/html": [
       "<div>\n",
       "<style>\n",
       "    .dataframe thead tr:only-child th {\n",
       "        text-align: right;\n",
       "    }\n",
       "\n",
       "    .dataframe thead th {\n",
       "        text-align: left;\n",
       "    }\n",
       "\n",
       "    .dataframe tbody tr th {\n",
       "        vertical-align: top;\n",
       "    }\n",
       "</style>\n",
       "<table border=\"1\" class=\"dataframe\">\n",
       "  <thead>\n",
       "    <tr style=\"text-align: right;\">\n",
       "      <th></th>\n",
       "      <th></th>\n",
       "      <th>count</th>\n",
       "      <th>mean</th>\n",
       "      <th>std</th>\n",
       "      <th>min</th>\n",
       "      <th>25%</th>\n",
       "      <th>50%</th>\n",
       "      <th>75%</th>\n",
       "      <th>max</th>\n",
       "    </tr>\n",
       "    <tr>\n",
       "      <th>Embarked</th>\n",
       "      <th>Sex</th>\n",
       "      <th></th>\n",
       "      <th></th>\n",
       "      <th></th>\n",
       "      <th></th>\n",
       "      <th></th>\n",
       "      <th></th>\n",
       "      <th></th>\n",
       "      <th></th>\n",
       "    </tr>\n",
       "  </thead>\n",
       "  <tbody>\n",
       "    <tr>\n",
       "      <th rowspan=\"2\" valign=\"top\">C</th>\n",
       "      <th>female</th>\n",
       "      <td>73.0</td>\n",
       "      <td>0.876712</td>\n",
       "      <td>0.331042</td>\n",
       "      <td>0.0</td>\n",
       "      <td>1.00</td>\n",
       "      <td>1.0</td>\n",
       "      <td>1.0</td>\n",
       "      <td>1.0</td>\n",
       "    </tr>\n",
       "    <tr>\n",
       "      <th>male</th>\n",
       "      <td>95.0</td>\n",
       "      <td>0.305263</td>\n",
       "      <td>0.462962</td>\n",
       "      <td>0.0</td>\n",
       "      <td>0.00</td>\n",
       "      <td>0.0</td>\n",
       "      <td>1.0</td>\n",
       "      <td>1.0</td>\n",
       "    </tr>\n",
       "    <tr>\n",
       "      <th rowspan=\"2\" valign=\"top\">Q</th>\n",
       "      <th>female</th>\n",
       "      <td>36.0</td>\n",
       "      <td>0.750000</td>\n",
       "      <td>0.439155</td>\n",
       "      <td>0.0</td>\n",
       "      <td>0.75</td>\n",
       "      <td>1.0</td>\n",
       "      <td>1.0</td>\n",
       "      <td>1.0</td>\n",
       "    </tr>\n",
       "    <tr>\n",
       "      <th>male</th>\n",
       "      <td>41.0</td>\n",
       "      <td>0.073171</td>\n",
       "      <td>0.263652</td>\n",
       "      <td>0.0</td>\n",
       "      <td>0.00</td>\n",
       "      <td>0.0</td>\n",
       "      <td>0.0</td>\n",
       "      <td>1.0</td>\n",
       "    </tr>\n",
       "    <tr>\n",
       "      <th rowspan=\"2\" valign=\"top\">S</th>\n",
       "      <th>female</th>\n",
       "      <td>203.0</td>\n",
       "      <td>0.689655</td>\n",
       "      <td>0.463778</td>\n",
       "      <td>0.0</td>\n",
       "      <td>0.00</td>\n",
       "      <td>1.0</td>\n",
       "      <td>1.0</td>\n",
       "      <td>1.0</td>\n",
       "    </tr>\n",
       "    <tr>\n",
       "      <th>male</th>\n",
       "      <td>441.0</td>\n",
       "      <td>0.174603</td>\n",
       "      <td>0.380058</td>\n",
       "      <td>0.0</td>\n",
       "      <td>0.00</td>\n",
       "      <td>0.0</td>\n",
       "      <td>0.0</td>\n",
       "      <td>1.0</td>\n",
       "    </tr>\n",
       "  </tbody>\n",
       "</table>\n",
       "</div>"
      ],
      "text/plain": [
       "                 count      mean       std  min   25%  50%  75%  max\n",
       "Embarked Sex                                                        \n",
       "C        female   73.0  0.876712  0.331042  0.0  1.00  1.0  1.0  1.0\n",
       "         male     95.0  0.305263  0.462962  0.0  0.00  0.0  1.0  1.0\n",
       "Q        female   36.0  0.750000  0.439155  0.0  0.75  1.0  1.0  1.0\n",
       "         male     41.0  0.073171  0.263652  0.0  0.00  0.0  0.0  1.0\n",
       "S        female  203.0  0.689655  0.463778  0.0  0.00  1.0  1.0  1.0\n",
       "         male    441.0  0.174603  0.380058  0.0  0.00  0.0  0.0  1.0"
      ]
     },
     "execution_count": 54,
     "metadata": {},
     "output_type": "execute_result"
    }
   ],
   "source": [
    "titanic_df.groupby(['Embarked','Sex'])['Survived'].describe()"
   ]
  },
  {
   "cell_type": "markdown",
   "metadata": {},
   "source": [
    "**Observation(s):** \n",
    "1. Passengers embarking from Cherbourg port had the highest proportion of survivors; with 55.36% of passengers having survived the wreck.\n",
    "2. This was followed at a distant second by passengers from Queenstown at 38.96% and passengers from Southampton at 33.70%.\n",
    "3. Correspondingly, both female and male passengesrs from Cherbourg had the highest proportion of survivors:-\n",
    "  * 87.67% of female passengers survived\n",
    "  * 30.53% of male passengers survived (noteably higher than overall male passengers survivor rate of 18.89%)\n",
    "  \n",
    "*Follow-on Question(s):*\n",
    "1. Which class did passengers from Cherbourg occupy?"
   ]
  },
  {
   "cell_type": "code",
   "execution_count": 55,
   "metadata": {},
   "outputs": [
    {
     "data": {
      "text/html": [
       "<div>\n",
       "<style>\n",
       "    .dataframe thead tr:only-child th {\n",
       "        text-align: right;\n",
       "    }\n",
       "\n",
       "    .dataframe thead th {\n",
       "        text-align: left;\n",
       "    }\n",
       "\n",
       "    .dataframe tbody tr th {\n",
       "        vertical-align: top;\n",
       "    }\n",
       "</style>\n",
       "<table border=\"1\" class=\"dataframe\">\n",
       "  <thead>\n",
       "    <tr style=\"text-align: right;\">\n",
       "      <th></th>\n",
       "      <th></th>\n",
       "      <th>count</th>\n",
       "      <th>mean</th>\n",
       "      <th>std</th>\n",
       "      <th>min</th>\n",
       "      <th>25%</th>\n",
       "      <th>50%</th>\n",
       "      <th>75%</th>\n",
       "      <th>max</th>\n",
       "    </tr>\n",
       "    <tr>\n",
       "      <th>Embarked</th>\n",
       "      <th>Pclass</th>\n",
       "      <th></th>\n",
       "      <th></th>\n",
       "      <th></th>\n",
       "      <th></th>\n",
       "      <th></th>\n",
       "      <th></th>\n",
       "      <th></th>\n",
       "      <th></th>\n",
       "    </tr>\n",
       "  </thead>\n",
       "  <tbody>\n",
       "    <tr>\n",
       "      <th rowspan=\"3\" valign=\"top\">C</th>\n",
       "      <th>1</th>\n",
       "      <td>85.0</td>\n",
       "      <td>0.694118</td>\n",
       "      <td>0.463515</td>\n",
       "      <td>0.0</td>\n",
       "      <td>0.00</td>\n",
       "      <td>1.0</td>\n",
       "      <td>1.00</td>\n",
       "      <td>1.0</td>\n",
       "    </tr>\n",
       "    <tr>\n",
       "      <th>2</th>\n",
       "      <td>17.0</td>\n",
       "      <td>0.529412</td>\n",
       "      <td>0.514496</td>\n",
       "      <td>0.0</td>\n",
       "      <td>0.00</td>\n",
       "      <td>1.0</td>\n",
       "      <td>1.00</td>\n",
       "      <td>1.0</td>\n",
       "    </tr>\n",
       "    <tr>\n",
       "      <th>3</th>\n",
       "      <td>66.0</td>\n",
       "      <td>0.378788</td>\n",
       "      <td>0.488802</td>\n",
       "      <td>0.0</td>\n",
       "      <td>0.00</td>\n",
       "      <td>0.0</td>\n",
       "      <td>1.00</td>\n",
       "      <td>1.0</td>\n",
       "    </tr>\n",
       "    <tr>\n",
       "      <th rowspan=\"3\" valign=\"top\">Q</th>\n",
       "      <th>1</th>\n",
       "      <td>2.0</td>\n",
       "      <td>0.500000</td>\n",
       "      <td>0.707107</td>\n",
       "      <td>0.0</td>\n",
       "      <td>0.25</td>\n",
       "      <td>0.5</td>\n",
       "      <td>0.75</td>\n",
       "      <td>1.0</td>\n",
       "    </tr>\n",
       "    <tr>\n",
       "      <th>2</th>\n",
       "      <td>3.0</td>\n",
       "      <td>0.666667</td>\n",
       "      <td>0.577350</td>\n",
       "      <td>0.0</td>\n",
       "      <td>0.50</td>\n",
       "      <td>1.0</td>\n",
       "      <td>1.00</td>\n",
       "      <td>1.0</td>\n",
       "    </tr>\n",
       "    <tr>\n",
       "      <th>3</th>\n",
       "      <td>72.0</td>\n",
       "      <td>0.375000</td>\n",
       "      <td>0.487520</td>\n",
       "      <td>0.0</td>\n",
       "      <td>0.00</td>\n",
       "      <td>0.0</td>\n",
       "      <td>1.00</td>\n",
       "      <td>1.0</td>\n",
       "    </tr>\n",
       "    <tr>\n",
       "      <th rowspan=\"3\" valign=\"top\">S</th>\n",
       "      <th>1</th>\n",
       "      <td>127.0</td>\n",
       "      <td>0.582677</td>\n",
       "      <td>0.495070</td>\n",
       "      <td>0.0</td>\n",
       "      <td>0.00</td>\n",
       "      <td>1.0</td>\n",
       "      <td>1.00</td>\n",
       "      <td>1.0</td>\n",
       "    </tr>\n",
       "    <tr>\n",
       "      <th>2</th>\n",
       "      <td>164.0</td>\n",
       "      <td>0.463415</td>\n",
       "      <td>0.500187</td>\n",
       "      <td>0.0</td>\n",
       "      <td>0.00</td>\n",
       "      <td>0.0</td>\n",
       "      <td>1.00</td>\n",
       "      <td>1.0</td>\n",
       "    </tr>\n",
       "    <tr>\n",
       "      <th>3</th>\n",
       "      <td>353.0</td>\n",
       "      <td>0.189802</td>\n",
       "      <td>0.392701</td>\n",
       "      <td>0.0</td>\n",
       "      <td>0.00</td>\n",
       "      <td>0.0</td>\n",
       "      <td>0.00</td>\n",
       "      <td>1.0</td>\n",
       "    </tr>\n",
       "  </tbody>\n",
       "</table>\n",
       "</div>"
      ],
      "text/plain": [
       "                 count      mean       std  min   25%  50%   75%  max\n",
       "Embarked Pclass                                                      \n",
       "C        1        85.0  0.694118  0.463515  0.0  0.00  1.0  1.00  1.0\n",
       "         2        17.0  0.529412  0.514496  0.0  0.00  1.0  1.00  1.0\n",
       "         3        66.0  0.378788  0.488802  0.0  0.00  0.0  1.00  1.0\n",
       "Q        1         2.0  0.500000  0.707107  0.0  0.25  0.5  0.75  1.0\n",
       "         2         3.0  0.666667  0.577350  0.0  0.50  1.0  1.00  1.0\n",
       "         3        72.0  0.375000  0.487520  0.0  0.00  0.0  1.00  1.0\n",
       "S        1       127.0  0.582677  0.495070  0.0  0.00  1.0  1.00  1.0\n",
       "         2       164.0  0.463415  0.500187  0.0  0.00  0.0  1.00  1.0\n",
       "         3       353.0  0.189802  0.392701  0.0  0.00  0.0  0.00  1.0"
      ]
     },
     "execution_count": 55,
     "metadata": {},
     "output_type": "execute_result"
    }
   ],
   "source": [
    "titanic_df.groupby(['Embarked', 'Pclass'])['Survived'].describe()"
   ]
  },
  {
   "cell_type": "markdown",
   "metadata": {},
   "source": [
    "**Observation(s):** A notable proportion of Cherbourg passengers had 1st class tickets (i.e. 85 over 168) compared to passengers from the other 2 ports."
   ]
  },
  {
   "cell_type": "code",
   "execution_count": 56,
   "metadata": {
    "collapsed": true
   },
   "outputs": [],
   "source": [
    "# Cherbourg\n",
    "grpby_ports = titanic_df.groupby('Embarked')\n",
    "cherbourg_df = grpby_ports.get_group('C')\n",
    "cherbourg_sur, cherbourg_xsur = split_by_survived(cherbourg_df, 'Pclass')\n",
    "\n",
    "# Queenstown\n",
    "queenstown_df = grpby_ports.get_group('Q')\n",
    "queenstown_sur, queenstown_xsur = split_by_survived(queenstown_df, 'Pclass')\n",
    "\n",
    "#Southampton\n",
    "southampton_df = grpby_ports.get_group('S')\n",
    "southampton_sur, southampton_xsur = split_by_survived(southampton_df, 'Pclass')"
   ]
  },
  {
   "cell_type": "code",
   "execution_count": 57,
   "metadata": {},
   "outputs": [
    {
     "name": "stdout",
     "output_type": "stream",
     "text": [
      "1    59\n",
      "3    25\n",
      "2     9\n",
      "Name: Pclass, dtype: int64\n",
      "3    286\n",
      "2     88\n",
      "1     53\n",
      "Name: Pclass, dtype: int64\n"
     ]
    }
   ],
   "source": [
    "# Produce axes values for sub-plots by counting occurence of Pclass values.\n",
    "cherbourg_s1 = cherbourg_sur.value_counts()\n",
    "cherbourg_s0 = cherbourg_xsur.value_counts()\n",
    "queenstown_s1 = queenstown_sur.value_counts()\n",
    "queenstown_s0 = queenstown_xsur.value_counts()\n",
    "southampton_s1 = southampton_sur.value_counts()\n",
    "southampton_s0 = southampton_xsur.value_counts()\n",
    "\n",
    "print(cherbourg_s1)\n",
    "print(southampton_s0)"
   ]
  },
  {
   "cell_type": "code",
   "execution_count": 58,
   "metadata": {},
   "outputs": [
    {
     "data": {
      "text/html": [
       "<div>\n",
       "<style>\n",
       "    .dataframe thead tr:only-child th {\n",
       "        text-align: right;\n",
       "    }\n",
       "\n",
       "    .dataframe thead th {\n",
       "        text-align: left;\n",
       "    }\n",
       "\n",
       "    .dataframe tbody tr th {\n",
       "        vertical-align: top;\n",
       "    }\n",
       "</style>\n",
       "<table border=\"1\" class=\"dataframe\">\n",
       "  <thead>\n",
       "    <tr style=\"text-align: right;\">\n",
       "      <th></th>\n",
       "      <th>index</th>\n",
       "      <th>cherbourg_ns</th>\n",
       "      <th>cherbourg_s</th>\n",
       "      <th>queenstown_ns</th>\n",
       "      <th>queenstown_s</th>\n",
       "      <th>southampton_ns</th>\n",
       "      <th>southampton_s</th>\n",
       "    </tr>\n",
       "  </thead>\n",
       "  <tbody>\n",
       "    <tr>\n",
       "      <th>0</th>\n",
       "      <td>1</td>\n",
       "      <td>26</td>\n",
       "      <td>59</td>\n",
       "      <td>1</td>\n",
       "      <td>1</td>\n",
       "      <td>53</td>\n",
       "      <td>74</td>\n",
       "    </tr>\n",
       "    <tr>\n",
       "      <th>1</th>\n",
       "      <td>2</td>\n",
       "      <td>8</td>\n",
       "      <td>9</td>\n",
       "      <td>1</td>\n",
       "      <td>2</td>\n",
       "      <td>88</td>\n",
       "      <td>76</td>\n",
       "    </tr>\n",
       "    <tr>\n",
       "      <th>2</th>\n",
       "      <td>3</td>\n",
       "      <td>41</td>\n",
       "      <td>25</td>\n",
       "      <td>45</td>\n",
       "      <td>27</td>\n",
       "      <td>286</td>\n",
       "      <td>67</td>\n",
       "    </tr>\n",
       "  </tbody>\n",
       "</table>\n",
       "</div>"
      ],
      "text/plain": [
       "   index  cherbourg_ns  cherbourg_s  queenstown_ns  queenstown_s  \\\n",
       "0      1            26           59              1             1   \n",
       "1      2             8            9              1             2   \n",
       "2      3            41           25             45            27   \n",
       "\n",
       "   southampton_ns  southampton_s  \n",
       "0              53             74  \n",
       "1              88             76  \n",
       "2             286             67  "
      ]
     },
     "execution_count": 58,
     "metadata": {},
     "output_type": "execute_result"
    }
   ],
   "source": [
    "# Create DataFrame for plotting.\n",
    "port_Pclass_df = pd.DataFrame({'cherbourg_s': cherbourg_s1, 'cherbourg_ns': cherbourg_s0,\n",
    "                               'queenstown_s': queenstown_s1, 'queenstown_ns': queenstown_s0,\n",
    "                               'southampton_s': southampton_s1, 'southampton_ns': southampton_s0\n",
    "                              }).reset_index()\n",
    "port_Pclass_df"
   ]
  },
  {
   "cell_type": "code",
   "execution_count": 59,
   "metadata": {},
   "outputs": [
    {
     "data": {
      "image/png": "[encoded data removed]",
      "text/plain": [
       "<matplotlib.figure.Figure at 0xda84e80>"
      ]
     },
     "metadata": {},
     "output_type": "display_data"
    }
   ],
   "source": [
    "### Subplots of 'Embarked' ports where each plot charts survivors & non-survivors across 'Pclass'.\n",
    "# Set the overall chart style.\n",
    "sns.set_style(\"darkgrid\", {'xtick.major.size': 3.0})\n",
    "\n",
    "# Create subplots\n",
    "f, (ax1, ax2, ax3) = plt.subplots(1, 3, sharey=True, figsize=(12,7))\n",
    "plt.suptitle('Survivability of Passengers from Different Ports & Ticket Classes  \\n', fontsize=16)\n",
    "\n",
    "ax1.bar(port_Pclass_df['index'], port_Pclass_df['cherbourg_s'], color='orange', alpha=0.5)\n",
    "ax1.bar(port_Pclass_df['index'], port_Pclass_df['cherbourg_ns'], bottom=port_Pclass_df['cherbourg_s'], color='blue', alpha=0.5)\n",
    "ax1.set_title(\"Cherbourg\", fontsize=14, alpha=0.75)\n",
    "ax1.set_xlabel('\\n Ticket Class', fontsize=12, alpha=0.75)\n",
    "ax1.set_ylabel('Headcount \\n', fontsize=12, alpha=0.75)\n",
    "\n",
    "ax2.bar(port_Pclass_df['index'], port_Pclass_df['queenstown_s'], color='orange', alpha=0.5)\n",
    "ax2.bar(port_Pclass_df['index'], port_Pclass_df['queenstown_ns'], bottom=port_Pclass_df['queenstown_s'], color='blue', alpha=0.5)\n",
    "ax2.set_title(\"Queenstown\", fontsize=14, alpha=0.75)\n",
    "ax2.set_xlabel('\\n Ticket Class', fontsize=12, alpha=0.75)\n",
    "ax2.legend([\"Survivors\", \"Non-survivors\"], fontsize=13)  # Place legend for subplots.\n",
    "\n",
    "ax3.bar(port_Pclass_df['index'], port_Pclass_df['southampton_s'], color='orange', alpha=0.5)\n",
    "ax3.bar(port_Pclass_df['index'], port_Pclass_df['southampton_ns'], bottom=port_Pclass_df['southampton_s'], color='blue', alpha=0.5)\n",
    "ax3.set_title(\"Southampton\", fontsize=14, alpha=0.75)\n",
    "ax3.set_xlabel('\\n Ticket Class', fontsize=12, alpha=0.75)\n",
    "\n",
    "# Set the tick size on x-axis for visibility.\n",
    "plt.tick_params(labelsize=10)"
   ]
  },
  {
   "cell_type": "markdown",
   "metadata": {},
   "source": [
    "**Observation(s):**\n",
    "1. Cherbourg passengers had the highest survival rate among the three ports, and this leading survival rate cuts across all 3 ticket classes.\n",
    "2. 51.45% of passengers from Cherbourg bought 1st class tickets; suggesting that Cherbourg could have been a city of affluent residents.\n",
    "3. Southampton had the largest representation of passengers across each `Pclass`, but had the lowest proportion of survivors among the ports."
   ]
  },
  {
   "cell_type": "markdown",
   "metadata": {},
   "source": [
    "<a id='conclusions'></a>\n",
    "## 4 Conclusions\n",
    "\n",
    "This project tries to answer the question of what factors made poeple more likely to survive the Titanic disaster by analyzing the 4 independent variables and providing metrices and plots to support observations on if and how these variables affect survivability (dependent variable). \n",
    "1. Pclass (A proxy for socio-economic status)\n",
    "2. Age\n",
    "3. Gender\n",
    "4. Embarkation port\n",
    "\n",
    "**Pclass** appears to have an influence on survivability considering 62.9% of passengers from Class 1 survived compared to 47.2% from Class 2 and 24.4% from Class 3. While 24.2% of all passengers were in Class 1, 39.8% of all survivors were from Class 1. Contrasting this with Class 3 passsengers who represented 55.1% of all passengers, but had only 34.8% of survivors.\n",
    "\n",
    "Class 1 survival rate was 2.6 times that of Class 3, and Class 2 survival rate was close to 2 times that of Class 3.\n",
    "\n",
    "How did ticket prices of Class 1 compare to other classes, considering the lead it had in survival rate? Class 1 average fares were over 6 times higher than the average fare for 3rd class, and 4 times higher than 2nd class's average fare. Even within Class 1 tickets, there were a wide spread of fare prices; and it was noted that higher ticket prices tended to lead to increased survival rates.\n",
    "\n",
    "**Age** appears to have an influence on survival rates in terms of 2 age groups: child and adult. A child has been categorized as a passenger aged 12 years and below. While the blended survival rate was at 40.6%, categorizing the passengers into the 2 age groups saw a notably higher children survival rate of 58% compared to 38.8% for adults.\n",
    "\n",
    "**Gender** also appears to have an influence on survivability. 74.2% of female passengers survived compared to 18.8% of male passengers. The difference in survival rate is more pronounced in adults between genders where more women survived compared to men. For every 10 women who did not survive, 35 others did. In contrast, for every 10 men who did not survive, only 2 others did. Survival rates of boys and girls were similar, with girls have a slight edge over boys.\n",
    "\n",
    "**Embarkation port** seems to have influenced survivability. Cherbourg saw the highest percentage of survivors at 55.36%, followed by Queenstown at 38.96% and Southampton at 33.70%. Survival rate of female passengers from Cherbourg  at 87.67% was higher compared to female passengers from other ports. Male passengers from Cherbourg also seemed to have bucked the trend with 30.52% survival rate.\n",
    "\n",
    "Cherbourg by itself may not have contributed to the higher survival rate. It appears that 51.45% of passengers from Cherbourg bought 1st class tickets, the highest percentage of 1st class passengers across the ports. Strangely,  Cherbourg's 2nd and 3rd class passengers had higher survival rate compared to Southampton's passengers in the same classes. Could it be the composition of gender in Cherbourg's passengers that boosted survival rate of its passengers? \n",
    "\n",
    "Cherbourg had more male passengers compared to female passengers. For every female passenger from Cherbourg, there were 1.3 male passengers. So, the survival rate enjoyed by female passengers did not help boost survival rate of passengers from Cherbourg.\n",
    "\n",
    "There could be other variables influencing the seemingly higher survival rate for passengers from Cherbourg such as cabin location that could be interesting for future exploration.\n",
    "\n",
    "Despite the apparent correlation between the independent variables and survivability, one must recognize **limitations** with the results:\n",
    "1. Only 1 sample of size 891 passengers has been used in the analysis.\n",
    "2. Data on passengers' location during the crucial period of evacuation is not available. The observations were made with the assumption that all passengers had equal chance of being evacuated.\n",
    "3. There was no distinction between paying passengers and working crews in the dataset - hence, it was assumed that every passenger had equal motivation of evacuating. \n",
    "\n"
   ]
  }
 ],
 "metadata": {
  "kernelspec": {
   "display_name": "Python 2",
   "language": "python",
   "name": "python2"
  },
  "language_info": {
   "codemirror_mode": {
    "name": "ipython",
    "version": 2
   },
   "file_extension": ".py",
   "mimetype": "text/x-python",
   "name": "python",
   "nbconvert_exporter": "python",
   "pygments_lexer": "ipython2",
   "version": "2.7.13"
  }
 },
 "nbformat": 4,
 "nbformat_minor": 2
}
